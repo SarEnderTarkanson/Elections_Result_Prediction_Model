{
 "cells": [
  {
   "cell_type": "markdown",
   "metadata": {},
   "source": [
    "# Importing the Data"
   ]
  },
  {
   "cell_type": "code",
   "execution_count": 1,
   "metadata": {},
   "outputs": [],
   "source": [
    "import numpy as np\n",
    "import pandas as pd\n",
    "import matplotlib.pyplot as plt\n",
    "import seaborn as sns"
   ]
  },
  {
   "cell_type": "code",
   "execution_count": 2,
   "metadata": {},
   "outputs": [],
   "source": [
    "df = pd.read_excel('DataSet.xlsx')"
   ]
  },
  {
   "cell_type": "code",
   "execution_count": 3,
   "metadata": {},
   "outputs": [
    {
     "data": {
      "text/html": [
       "<div>\n",
       "<style scoped>\n",
       "    .dataframe tbody tr th:only-of-type {\n",
       "        vertical-align: middle;\n",
       "    }\n",
       "\n",
       "    .dataframe tbody tr th {\n",
       "        vertical-align: top;\n",
       "    }\n",
       "\n",
       "    .dataframe thead th {\n",
       "        text-align: right;\n",
       "    }\n",
       "</style>\n",
       "<table border=\"1\" class=\"dataframe\">\n",
       "  <thead>\n",
       "    <tr style=\"text-align: right;\">\n",
       "      <th></th>\n",
       "      <th>Year</th>\n",
       "      <th>Dollar</th>\n",
       "      <th>Inflation (TÜFE)</th>\n",
       "      <th>Inflation(Toptan)</th>\n",
       "      <th>Interest Rate</th>\n",
       "      <th>GDP</th>\n",
       "      <th>Unemployment</th>\n",
       "      <th>AKP</th>\n",
       "      <th>Unnamed: 8</th>\n",
       "    </tr>\n",
       "  </thead>\n",
       "  <tbody>\n",
       "    <tr>\n",
       "      <th>0</th>\n",
       "      <td>2002</td>\n",
       "      <td>1.509</td>\n",
       "      <td>0.2970</td>\n",
       "      <td>0.3080</td>\n",
       "      <td>0.480</td>\n",
       "      <td>238000000000</td>\n",
       "      <td>0.103</td>\n",
       "      <td>0.34280</td>\n",
       "      <td>NaN</td>\n",
       "    </tr>\n",
       "    <tr>\n",
       "      <th>1</th>\n",
       "      <td>2004</td>\n",
       "      <td>1.425</td>\n",
       "      <td>0.0930</td>\n",
       "      <td>0.1380</td>\n",
       "      <td>0.199</td>\n",
       "      <td>404000000000</td>\n",
       "      <td>0.108</td>\n",
       "      <td>0.41670</td>\n",
       "      <td>NaN</td>\n",
       "    </tr>\n",
       "    <tr>\n",
       "      <th>2</th>\n",
       "      <td>2007</td>\n",
       "      <td>1.305</td>\n",
       "      <td>0.0839</td>\n",
       "      <td>0.0594</td>\n",
       "      <td>0.169</td>\n",
       "      <td>677000000000</td>\n",
       "      <td>0.103</td>\n",
       "      <td>0.46580</td>\n",
       "      <td>NaN</td>\n",
       "    </tr>\n",
       "    <tr>\n",
       "      <th>3</th>\n",
       "      <td>2009</td>\n",
       "      <td>1.551</td>\n",
       "      <td>0.0653</td>\n",
       "      <td>0.0593</td>\n",
       "      <td>0.088</td>\n",
       "      <td>645000000000</td>\n",
       "      <td>0.140</td>\n",
       "      <td>0.38390</td>\n",
       "      <td>NaN</td>\n",
       "    </tr>\n",
       "    <tr>\n",
       "      <th>4</th>\n",
       "      <td>2010</td>\n",
       "      <td>1.550</td>\n",
       "      <td>0.0640</td>\n",
       "      <td>0.0887</td>\n",
       "      <td>0.079</td>\n",
       "      <td>748000000000</td>\n",
       "      <td>0.119</td>\n",
       "      <td>0.57880</td>\n",
       "      <td>NaN</td>\n",
       "    </tr>\n",
       "    <tr>\n",
       "      <th>5</th>\n",
       "      <td>2011</td>\n",
       "      <td>1.674</td>\n",
       "      <td>0.1045</td>\n",
       "      <td>0.1333</td>\n",
       "      <td>0.100</td>\n",
       "      <td>730000000000</td>\n",
       "      <td>0.098</td>\n",
       "      <td>0.49830</td>\n",
       "      <td>NaN</td>\n",
       "    </tr>\n",
       "    <tr>\n",
       "      <th>6</th>\n",
       "      <td>2014</td>\n",
       "      <td>2.190</td>\n",
       "      <td>0.0817</td>\n",
       "      <td>0.0636</td>\n",
       "      <td>0.098</td>\n",
       "      <td>934000000000</td>\n",
       "      <td>0.099</td>\n",
       "      <td>0.42870</td>\n",
       "      <td>NaN</td>\n",
       "    </tr>\n",
       "    <tr>\n",
       "      <th>7</th>\n",
       "      <td>2015</td>\n",
       "      <td>2.720</td>\n",
       "      <td>0.0881</td>\n",
       "      <td>0.0571</td>\n",
       "      <td>0.102</td>\n",
       "      <td>855000000000</td>\n",
       "      <td>0.103</td>\n",
       "      <td>0.45185</td>\n",
       "      <td>NaN</td>\n",
       "    </tr>\n",
       "    <tr>\n",
       "      <th>8</th>\n",
       "      <td>2017</td>\n",
       "      <td>3.653</td>\n",
       "      <td>0.1192</td>\n",
       "      <td>0.1547</td>\n",
       "      <td>0.128</td>\n",
       "      <td>851000000000</td>\n",
       "      <td>0.109</td>\n",
       "      <td>0.51410</td>\n",
       "      <td>NaN</td>\n",
       "    </tr>\n",
       "    <tr>\n",
       "      <th>9</th>\n",
       "      <td>2018</td>\n",
       "      <td>4.820</td>\n",
       "      <td>0.2030</td>\n",
       "      <td>0.3364</td>\n",
       "      <td>0.190</td>\n",
       "      <td>789000000000</td>\n",
       "      <td>0.110</td>\n",
       "      <td>0.47600</td>\n",
       "      <td>NaN</td>\n",
       "    </tr>\n",
       "    <tr>\n",
       "      <th>10</th>\n",
       "      <td>2019</td>\n",
       "      <td>5.677</td>\n",
       "      <td>0.1184</td>\n",
       "      <td>0.0736</td>\n",
       "      <td>0.140</td>\n",
       "      <td>749000000000</td>\n",
       "      <td>0.134</td>\n",
       "      <td>0.44330</td>\n",
       "      <td>NaN</td>\n",
       "    </tr>\n",
       "  </tbody>\n",
       "</table>\n",
       "</div>"
      ],
      "text/plain": [
       "    Year  Dollar  Inflation (TÜFE)  Inflation(Toptan)  Interest Rate  \\\n",
       "0   2002   1.509            0.2970             0.3080          0.480   \n",
       "1   2004   1.425            0.0930             0.1380          0.199   \n",
       "2   2007   1.305            0.0839             0.0594          0.169   \n",
       "3   2009   1.551            0.0653             0.0593          0.088   \n",
       "4   2010   1.550            0.0640             0.0887          0.079   \n",
       "5   2011   1.674            0.1045             0.1333          0.100   \n",
       "6   2014   2.190            0.0817             0.0636          0.098   \n",
       "7   2015   2.720            0.0881             0.0571          0.102   \n",
       "8   2017   3.653            0.1192             0.1547          0.128   \n",
       "9   2018   4.820            0.2030             0.3364          0.190   \n",
       "10  2019   5.677            0.1184             0.0736          0.140   \n",
       "\n",
       "             GDP  Unemployment      AKP  Unnamed: 8  \n",
       "0   238000000000         0.103  0.34280         NaN  \n",
       "1   404000000000         0.108  0.41670         NaN  \n",
       "2   677000000000         0.103  0.46580         NaN  \n",
       "3   645000000000         0.140  0.38390         NaN  \n",
       "4   748000000000         0.119  0.57880         NaN  \n",
       "5   730000000000         0.098  0.49830         NaN  \n",
       "6   934000000000         0.099  0.42870         NaN  \n",
       "7   855000000000         0.103  0.45185         NaN  \n",
       "8   851000000000         0.109  0.51410         NaN  \n",
       "9   789000000000         0.110  0.47600         NaN  \n",
       "10  749000000000         0.134  0.44330         NaN  "
      ]
     },
     "execution_count": 3,
     "metadata": {},
     "output_type": "execute_result"
    }
   ],
   "source": [
    "df"
   ]
  },
  {
   "cell_type": "code",
   "execution_count": 4,
   "metadata": {},
   "outputs": [],
   "source": [
    "df = df.drop('Unnamed: 8', axis = 1)"
   ]
  },
  {
   "cell_type": "code",
   "execution_count": 5,
   "metadata": {},
   "outputs": [
    {
     "data": {
      "text/html": [
       "<div>\n",
       "<style scoped>\n",
       "    .dataframe tbody tr th:only-of-type {\n",
       "        vertical-align: middle;\n",
       "    }\n",
       "\n",
       "    .dataframe tbody tr th {\n",
       "        vertical-align: top;\n",
       "    }\n",
       "\n",
       "    .dataframe thead th {\n",
       "        text-align: right;\n",
       "    }\n",
       "</style>\n",
       "<table border=\"1\" class=\"dataframe\">\n",
       "  <thead>\n",
       "    <tr style=\"text-align: right;\">\n",
       "      <th></th>\n",
       "      <th>Year</th>\n",
       "      <th>Dollar</th>\n",
       "      <th>Inflation (TÜFE)</th>\n",
       "      <th>Inflation(Toptan)</th>\n",
       "      <th>Interest Rate</th>\n",
       "      <th>GDP</th>\n",
       "      <th>Unemployment</th>\n",
       "      <th>AKP</th>\n",
       "    </tr>\n",
       "  </thead>\n",
       "  <tbody>\n",
       "    <tr>\n",
       "      <th>0</th>\n",
       "      <td>2002</td>\n",
       "      <td>1.509</td>\n",
       "      <td>0.2970</td>\n",
       "      <td>0.3080</td>\n",
       "      <td>0.480</td>\n",
       "      <td>238000000000</td>\n",
       "      <td>0.103</td>\n",
       "      <td>0.34280</td>\n",
       "    </tr>\n",
       "    <tr>\n",
       "      <th>1</th>\n",
       "      <td>2004</td>\n",
       "      <td>1.425</td>\n",
       "      <td>0.0930</td>\n",
       "      <td>0.1380</td>\n",
       "      <td>0.199</td>\n",
       "      <td>404000000000</td>\n",
       "      <td>0.108</td>\n",
       "      <td>0.41670</td>\n",
       "    </tr>\n",
       "    <tr>\n",
       "      <th>2</th>\n",
       "      <td>2007</td>\n",
       "      <td>1.305</td>\n",
       "      <td>0.0839</td>\n",
       "      <td>0.0594</td>\n",
       "      <td>0.169</td>\n",
       "      <td>677000000000</td>\n",
       "      <td>0.103</td>\n",
       "      <td>0.46580</td>\n",
       "    </tr>\n",
       "    <tr>\n",
       "      <th>3</th>\n",
       "      <td>2009</td>\n",
       "      <td>1.551</td>\n",
       "      <td>0.0653</td>\n",
       "      <td>0.0593</td>\n",
       "      <td>0.088</td>\n",
       "      <td>645000000000</td>\n",
       "      <td>0.140</td>\n",
       "      <td>0.38390</td>\n",
       "    </tr>\n",
       "    <tr>\n",
       "      <th>4</th>\n",
       "      <td>2010</td>\n",
       "      <td>1.550</td>\n",
       "      <td>0.0640</td>\n",
       "      <td>0.0887</td>\n",
       "      <td>0.079</td>\n",
       "      <td>748000000000</td>\n",
       "      <td>0.119</td>\n",
       "      <td>0.57880</td>\n",
       "    </tr>\n",
       "    <tr>\n",
       "      <th>5</th>\n",
       "      <td>2011</td>\n",
       "      <td>1.674</td>\n",
       "      <td>0.1045</td>\n",
       "      <td>0.1333</td>\n",
       "      <td>0.100</td>\n",
       "      <td>730000000000</td>\n",
       "      <td>0.098</td>\n",
       "      <td>0.49830</td>\n",
       "    </tr>\n",
       "    <tr>\n",
       "      <th>6</th>\n",
       "      <td>2014</td>\n",
       "      <td>2.190</td>\n",
       "      <td>0.0817</td>\n",
       "      <td>0.0636</td>\n",
       "      <td>0.098</td>\n",
       "      <td>934000000000</td>\n",
       "      <td>0.099</td>\n",
       "      <td>0.42870</td>\n",
       "    </tr>\n",
       "    <tr>\n",
       "      <th>7</th>\n",
       "      <td>2015</td>\n",
       "      <td>2.720</td>\n",
       "      <td>0.0881</td>\n",
       "      <td>0.0571</td>\n",
       "      <td>0.102</td>\n",
       "      <td>855000000000</td>\n",
       "      <td>0.103</td>\n",
       "      <td>0.45185</td>\n",
       "    </tr>\n",
       "    <tr>\n",
       "      <th>8</th>\n",
       "      <td>2017</td>\n",
       "      <td>3.653</td>\n",
       "      <td>0.1192</td>\n",
       "      <td>0.1547</td>\n",
       "      <td>0.128</td>\n",
       "      <td>851000000000</td>\n",
       "      <td>0.109</td>\n",
       "      <td>0.51410</td>\n",
       "    </tr>\n",
       "    <tr>\n",
       "      <th>9</th>\n",
       "      <td>2018</td>\n",
       "      <td>4.820</td>\n",
       "      <td>0.2030</td>\n",
       "      <td>0.3364</td>\n",
       "      <td>0.190</td>\n",
       "      <td>789000000000</td>\n",
       "      <td>0.110</td>\n",
       "      <td>0.47600</td>\n",
       "    </tr>\n",
       "    <tr>\n",
       "      <th>10</th>\n",
       "      <td>2019</td>\n",
       "      <td>5.677</td>\n",
       "      <td>0.1184</td>\n",
       "      <td>0.0736</td>\n",
       "      <td>0.140</td>\n",
       "      <td>749000000000</td>\n",
       "      <td>0.134</td>\n",
       "      <td>0.44330</td>\n",
       "    </tr>\n",
       "  </tbody>\n",
       "</table>\n",
       "</div>"
      ],
      "text/plain": [
       "    Year  Dollar  Inflation (TÜFE)  Inflation(Toptan)  Interest Rate  \\\n",
       "0   2002   1.509            0.2970             0.3080          0.480   \n",
       "1   2004   1.425            0.0930             0.1380          0.199   \n",
       "2   2007   1.305            0.0839             0.0594          0.169   \n",
       "3   2009   1.551            0.0653             0.0593          0.088   \n",
       "4   2010   1.550            0.0640             0.0887          0.079   \n",
       "5   2011   1.674            0.1045             0.1333          0.100   \n",
       "6   2014   2.190            0.0817             0.0636          0.098   \n",
       "7   2015   2.720            0.0881             0.0571          0.102   \n",
       "8   2017   3.653            0.1192             0.1547          0.128   \n",
       "9   2018   4.820            0.2030             0.3364          0.190   \n",
       "10  2019   5.677            0.1184             0.0736          0.140   \n",
       "\n",
       "             GDP  Unemployment      AKP  \n",
       "0   238000000000         0.103  0.34280  \n",
       "1   404000000000         0.108  0.41670  \n",
       "2   677000000000         0.103  0.46580  \n",
       "3   645000000000         0.140  0.38390  \n",
       "4   748000000000         0.119  0.57880  \n",
       "5   730000000000         0.098  0.49830  \n",
       "6   934000000000         0.099  0.42870  \n",
       "7   855000000000         0.103  0.45185  \n",
       "8   851000000000         0.109  0.51410  \n",
       "9   789000000000         0.110  0.47600  \n",
       "10  749000000000         0.134  0.44330  "
      ]
     },
     "execution_count": 5,
     "metadata": {},
     "output_type": "execute_result"
    }
   ],
   "source": [
    "df"
   ]
  },
  {
   "cell_type": "markdown",
   "metadata": {},
   "source": [
    "# Descriptive Statistics"
   ]
  },
  {
   "cell_type": "code",
   "execution_count": 6,
   "metadata": {},
   "outputs": [
    {
     "name": "stdout",
     "output_type": "stream",
     "text": [
      "<class 'pandas.core.frame.DataFrame'>\n",
      "RangeIndex: 11 entries, 0 to 10\n",
      "Data columns (total 8 columns):\n",
      " #   Column             Non-Null Count  Dtype  \n",
      "---  ------             --------------  -----  \n",
      " 0   Year               11 non-null     int64  \n",
      " 1   Dollar             11 non-null     float64\n",
      " 2   Inflation (TÜFE)   11 non-null     float64\n",
      " 3   Inflation(Toptan)  11 non-null     float64\n",
      " 4   Interest Rate      11 non-null     float64\n",
      " 5   GDP                11 non-null     int64  \n",
      " 6   Unemployment       11 non-null     float64\n",
      " 7   AKP                11 non-null     float64\n",
      "dtypes: float64(6), int64(2)\n",
      "memory usage: 832.0 bytes\n"
     ]
    }
   ],
   "source": [
    "df.info()"
   ]
  },
  {
   "cell_type": "code",
   "execution_count": 7,
   "metadata": {
    "scrolled": false
   },
   "outputs": [
    {
     "data": {
      "text/html": [
       "<div>\n",
       "<style scoped>\n",
       "    .dataframe tbody tr th:only-of-type {\n",
       "        vertical-align: middle;\n",
       "    }\n",
       "\n",
       "    .dataframe tbody tr th {\n",
       "        vertical-align: top;\n",
       "    }\n",
       "\n",
       "    .dataframe thead th {\n",
       "        text-align: right;\n",
       "    }\n",
       "</style>\n",
       "<table border=\"1\" class=\"dataframe\">\n",
       "  <thead>\n",
       "    <tr style=\"text-align: right;\">\n",
       "      <th></th>\n",
       "      <th>Year</th>\n",
       "      <th>Dollar</th>\n",
       "      <th>Inflation (TÜFE)</th>\n",
       "      <th>Inflation(Toptan)</th>\n",
       "      <th>Interest Rate</th>\n",
       "      <th>GDP</th>\n",
       "      <th>Unemployment</th>\n",
       "      <th>AKP</th>\n",
       "    </tr>\n",
       "  </thead>\n",
       "  <tbody>\n",
       "    <tr>\n",
       "      <th>count</th>\n",
       "      <td>11.000000</td>\n",
       "      <td>11.000000</td>\n",
       "      <td>11.000000</td>\n",
       "      <td>11.000000</td>\n",
       "      <td>11.000000</td>\n",
       "      <td>1.100000e+01</td>\n",
       "      <td>11.000000</td>\n",
       "      <td>11.000000</td>\n",
       "    </tr>\n",
       "    <tr>\n",
       "      <th>mean</th>\n",
       "      <td>2011.454545</td>\n",
       "      <td>2.552182</td>\n",
       "      <td>0.119827</td>\n",
       "      <td>0.133827</td>\n",
       "      <td>0.161182</td>\n",
       "      <td>6.927273e+11</td>\n",
       "      <td>0.111455</td>\n",
       "      <td>0.454568</td>\n",
       "    </tr>\n",
       "    <tr>\n",
       "      <th>std</th>\n",
       "      <td>5.680909</td>\n",
       "      <td>1.515612</td>\n",
       "      <td>0.070076</td>\n",
       "      <td>0.099700</td>\n",
       "      <td>0.113518</td>\n",
       "      <td>2.047291e+11</td>\n",
       "      <td>0.013967</td>\n",
       "      <td>0.064187</td>\n",
       "    </tr>\n",
       "    <tr>\n",
       "      <th>min</th>\n",
       "      <td>2002.000000</td>\n",
       "      <td>1.305000</td>\n",
       "      <td>0.064000</td>\n",
       "      <td>0.057100</td>\n",
       "      <td>0.079000</td>\n",
       "      <td>2.380000e+11</td>\n",
       "      <td>0.098000</td>\n",
       "      <td>0.342800</td>\n",
       "    </tr>\n",
       "    <tr>\n",
       "      <th>25%</th>\n",
       "      <td>2008.000000</td>\n",
       "      <td>1.529500</td>\n",
       "      <td>0.082800</td>\n",
       "      <td>0.061500</td>\n",
       "      <td>0.099000</td>\n",
       "      <td>6.610000e+11</td>\n",
       "      <td>0.103000</td>\n",
       "      <td>0.422700</td>\n",
       "    </tr>\n",
       "    <tr>\n",
       "      <th>50%</th>\n",
       "      <td>2011.000000</td>\n",
       "      <td>1.674000</td>\n",
       "      <td>0.093000</td>\n",
       "      <td>0.088700</td>\n",
       "      <td>0.128000</td>\n",
       "      <td>7.480000e+11</td>\n",
       "      <td>0.108000</td>\n",
       "      <td>0.451850</td>\n",
       "    </tr>\n",
       "    <tr>\n",
       "      <th>75%</th>\n",
       "      <td>2016.000000</td>\n",
       "      <td>3.186500</td>\n",
       "      <td>0.118800</td>\n",
       "      <td>0.146350</td>\n",
       "      <td>0.179500</td>\n",
       "      <td>8.200000e+11</td>\n",
       "      <td>0.114500</td>\n",
       "      <td>0.487150</td>\n",
       "    </tr>\n",
       "    <tr>\n",
       "      <th>max</th>\n",
       "      <td>2019.000000</td>\n",
       "      <td>5.677000</td>\n",
       "      <td>0.297000</td>\n",
       "      <td>0.336400</td>\n",
       "      <td>0.480000</td>\n",
       "      <td>9.340000e+11</td>\n",
       "      <td>0.140000</td>\n",
       "      <td>0.578800</td>\n",
       "    </tr>\n",
       "  </tbody>\n",
       "</table>\n",
       "</div>"
      ],
      "text/plain": [
       "              Year     Dollar  Inflation (TÜFE)  Inflation(Toptan)  \\\n",
       "count    11.000000  11.000000         11.000000          11.000000   \n",
       "mean   2011.454545   2.552182          0.119827           0.133827   \n",
       "std       5.680909   1.515612          0.070076           0.099700   \n",
       "min    2002.000000   1.305000          0.064000           0.057100   \n",
       "25%    2008.000000   1.529500          0.082800           0.061500   \n",
       "50%    2011.000000   1.674000          0.093000           0.088700   \n",
       "75%    2016.000000   3.186500          0.118800           0.146350   \n",
       "max    2019.000000   5.677000          0.297000           0.336400   \n",
       "\n",
       "       Interest Rate           GDP  Unemployment        AKP  \n",
       "count      11.000000  1.100000e+01     11.000000  11.000000  \n",
       "mean        0.161182  6.927273e+11      0.111455   0.454568  \n",
       "std         0.113518  2.047291e+11      0.013967   0.064187  \n",
       "min         0.079000  2.380000e+11      0.098000   0.342800  \n",
       "25%         0.099000  6.610000e+11      0.103000   0.422700  \n",
       "50%         0.128000  7.480000e+11      0.108000   0.451850  \n",
       "75%         0.179500  8.200000e+11      0.114500   0.487150  \n",
       "max         0.480000  9.340000e+11      0.140000   0.578800  "
      ]
     },
     "execution_count": 7,
     "metadata": {},
     "output_type": "execute_result"
    }
   ],
   "source": [
    "df.describe(include = 'all')"
   ]
  },
  {
   "cell_type": "markdown",
   "metadata": {},
   "source": [
    "# Determining the Inputs and Targets"
   ]
  },
  {
   "cell_type": "code",
   "execution_count": 8,
   "metadata": {},
   "outputs": [],
   "source": [
    "targets = df['AKP']\n",
    "inputs = df.drop(['AKP', 'Year', 'Dollar'] ,axis=1)"
   ]
  },
  {
   "cell_type": "markdown",
   "metadata": {},
   "source": [
    "# Scaling and Fitting the Model"
   ]
  },
  {
   "cell_type": "code",
   "execution_count": 9,
   "metadata": {},
   "outputs": [],
   "source": [
    "from sklearn.linear_model import LinearRegression\n",
    "from sklearn.preprocessing import StandardScaler"
   ]
  },
  {
   "cell_type": "code",
   "execution_count": 10,
   "metadata": {},
   "outputs": [],
   "source": [
    "scaler = StandardScaler()"
   ]
  },
  {
   "cell_type": "code",
   "execution_count": 11,
   "metadata": {},
   "outputs": [
    {
     "data": {
      "text/plain": [
       "StandardScaler()"
      ]
     },
     "execution_count": 11,
     "metadata": {},
     "output_type": "execute_result"
    }
   ],
   "source": [
    "scaler.fit(inputs)"
   ]
  },
  {
   "cell_type": "code",
   "execution_count": 12,
   "metadata": {},
   "outputs": [],
   "source": [
    "inputs_scaled = scaler.transform(inputs)"
   ]
  },
  {
   "cell_type": "markdown",
   "metadata": {},
   "source": [
    "# Splitting the Data as Train and Test"
   ]
  },
  {
   "cell_type": "code",
   "execution_count": 13,
   "metadata": {},
   "outputs": [],
   "source": [
    "from sklearn.model_selection import train_test_split"
   ]
  },
  {
   "cell_type": "code",
   "execution_count": 14,
   "metadata": {},
   "outputs": [],
   "source": [
    "X_train, X_test, y_train, y_test = train_test_split(inputs_scaled, targets, test_size=0.2, random_state=42)"
   ]
  },
  {
   "cell_type": "code",
   "execution_count": 15,
   "metadata": {},
   "outputs": [
    {
     "data": {
      "text/plain": [
       "array([[-0.02136173, -0.63356718, -0.1957016 ,  0.2882801 ,  1.6930004 ],\n",
       "       [-0.53771687, -0.78294559,  0.07223321, -0.0805694 , -0.63487515],\n",
       "       [-0.40151884,  0.04389545,  0.34940716, -1.47912372, -0.25941135],\n",
       "       [-0.00938828,  0.21957287, -0.30657118,  0.81081688, -0.18431859],\n",
       "       [-0.8355565 , -0.47472113, -0.75928863,  0.28315719,  0.566609  ],\n",
       "       [-0.47485624, -0.80714068, -0.5467886 ,  0.83130852, -0.63487515],\n",
       "       [-0.81609964, -0.78399755, -0.67613645, -0.2445025 ,  2.14355696],\n",
       "       [-0.57064386, -0.73876324, -0.58374513,  1.23601838, -0.93524619]])"
      ]
     },
     "execution_count": 15,
     "metadata": {},
     "output_type": "execute_result"
    }
   ],
   "source": [
    "X_train"
   ]
  },
  {
   "cell_type": "code",
   "execution_count": 16,
   "metadata": {},
   "outputs": [
    {
     "data": {
      "text/plain": [
       "10    0.44330\n",
       "2     0.46580\n",
       "1     0.41670\n",
       "8     0.51410\n",
       "4     0.57880\n",
       "7     0.45185\n",
       "3     0.38390\n",
       "6     0.42870\n",
       "Name: AKP, dtype: float64"
      ]
     },
     "execution_count": 16,
     "metadata": {},
     "output_type": "execute_result"
    }
   ],
   "source": [
    "y_train"
   ]
  },
  {
   "cell_type": "code",
   "execution_count": 17,
   "metadata": {
    "scrolled": true
   },
   "outputs": [
    {
     "data": {
      "text/plain": [
       "array([[-0.22940046, -0.0055467 , -0.56526687,  0.19094481, -1.01033895],\n",
       "       [ 2.65171154,  1.83222848,  2.94560313, -2.32952672, -0.63487515],\n",
       "       [ 1.24483087,  2.13098529,  0.26625497,  0.49319648, -0.10922583]])"
      ]
     },
     "execution_count": 17,
     "metadata": {},
     "output_type": "execute_result"
    }
   ],
   "source": [
    "X_test"
   ]
  },
  {
   "cell_type": "code",
   "execution_count": 18,
   "metadata": {},
   "outputs": [
    {
     "data": {
      "text/plain": [
       "5    0.4983\n",
       "0    0.3428\n",
       "9    0.4760\n",
       "Name: AKP, dtype: float64"
      ]
     },
     "execution_count": 18,
     "metadata": {},
     "output_type": "execute_result"
    }
   ],
   "source": [
    "y_test"
   ]
  },
  {
   "cell_type": "markdown",
   "metadata": {},
   "source": [
    "# Creating the Model"
   ]
  },
  {
   "cell_type": "code",
   "execution_count": 19,
   "metadata": {},
   "outputs": [],
   "source": [
    "reg = LinearRegression()"
   ]
  },
  {
   "cell_type": "code",
   "execution_count": 20,
   "metadata": {},
   "outputs": [
    {
     "data": {
      "text/plain": [
       "LinearRegression()"
      ]
     },
     "execution_count": 20,
     "metadata": {},
     "output_type": "execute_result"
    }
   ],
   "source": [
    "reg.fit(X_train, y_train)"
   ]
  },
  {
   "cell_type": "code",
   "execution_count": 21,
   "metadata": {},
   "outputs": [],
   "source": [
    "y_hat = reg.predict(X_train)"
   ]
  },
  {
   "cell_type": "code",
   "execution_count": 22,
   "metadata": {},
   "outputs": [
    {
     "data": {
      "text/plain": [
       "array([0.41715088, 0.43434897, 0.43743945, 0.52374045, 0.49542894,\n",
       "       0.44278485, 0.44394014, 0.48831633])"
      ]
     },
     "execution_count": 22,
     "metadata": {},
     "output_type": "execute_result"
    }
   ],
   "source": [
    "y_hat"
   ]
  },
  {
   "cell_type": "markdown",
   "metadata": {},
   "source": [
    "# Plotting the Prediction"
   ]
  },
  {
   "cell_type": "code",
   "execution_count": 23,
   "metadata": {},
   "outputs": [
    {
     "data": {
      "image/png": "[encoded data removed]",
      "text/plain": [
       "<Figure size 432x288 with 1 Axes>"
      ]
     },
     "metadata": {
      "needs_background": "light"
     },
     "output_type": "display_data"
    }
   ],
   "source": [
    "plt.scatter(y_train,y_hat)\n",
    "plt.xlabel('Targets(y_train)', size = 18)\n",
    "plt.ylabel('Predictions(y_hat)', size = 18)\n",
    "plt.xlim(6,13)\n",
    "plt.ylim(6,13)\n",
    "plt.show()"
   ]
  },
  {
   "cell_type": "code",
   "execution_count": 24,
   "metadata": {},
   "outputs": [
    {
     "data": {
      "text/plain": [
       "Text(0.5, 1.0, 'Residuals PDF')"
      ]
     },
     "execution_count": 24,
     "metadata": {},
     "output_type": "execute_result"
    },
    {
     "data": {
      "image/png": "[encoded data removed]",
      "text/plain": [
       "<Figure size 432x288 with 1 Axes>"
      ]
     },
     "metadata": {
      "needs_background": "light"
     },
     "output_type": "display_data"
    }
   ],
   "source": [
    "sns.histplot(y_train - y_hat)\n",
    "plt.title(\"Residuals PDF\", size = 18)"
   ]
  },
  {
   "cell_type": "markdown",
   "metadata": {},
   "source": [
    "# R-squared"
   ]
  },
  {
   "cell_type": "code",
   "execution_count": 25,
   "metadata": {},
   "outputs": [
    {
     "data": {
      "text/plain": [
       "0.3712400805189624"
      ]
     },
     "execution_count": 25,
     "metadata": {},
     "output_type": "execute_result"
    }
   ],
   "source": [
    "reg.score(X_train, y_train)"
   ]
  },
  {
   "cell_type": "markdown",
   "metadata": {},
   "source": [
    "# Weights and Bias"
   ]
  },
  {
   "cell_type": "code",
   "execution_count": 26,
   "metadata": {},
   "outputs": [
    {
     "data": {
      "text/plain": [
       "0.4610706041470493"
      ]
     },
     "execution_count": 26,
     "metadata": {},
     "output_type": "execute_result"
    }
   ],
   "source": [
    "reg.intercept_"
   ]
  },
  {
   "cell_type": "code",
   "execution_count": 27,
   "metadata": {},
   "outputs": [
    {
     "data": {
      "text/plain": [
       "array([-0.145672  ,  0.12215368,  0.07712952,  0.07489301,  0.01409642])"
      ]
     },
     "execution_count": 27,
     "metadata": {},
     "output_type": "execute_result"
    }
   ],
   "source": [
    "reg.coef_"
   ]
  },
  {
   "cell_type": "code",
   "execution_count": 28,
   "metadata": {},
   "outputs": [
    {
     "data": {
      "text/html": [
       "<div>\n",
       "<style scoped>\n",
       "    .dataframe tbody tr th:only-of-type {\n",
       "        vertical-align: middle;\n",
       "    }\n",
       "\n",
       "    .dataframe tbody tr th {\n",
       "        vertical-align: top;\n",
       "    }\n",
       "\n",
       "    .dataframe thead th {\n",
       "        text-align: right;\n",
       "    }\n",
       "</style>\n",
       "<table border=\"1\" class=\"dataframe\">\n",
       "  <thead>\n",
       "    <tr style=\"text-align: right;\">\n",
       "      <th></th>\n",
       "      <th>Features</th>\n",
       "      <th>Weights</th>\n",
       "    </tr>\n",
       "  </thead>\n",
       "  <tbody>\n",
       "    <tr>\n",
       "      <th>0</th>\n",
       "      <td>Inflation (TÜFE)</td>\n",
       "      <td>-0.145672</td>\n",
       "    </tr>\n",
       "    <tr>\n",
       "      <th>1</th>\n",
       "      <td>Inflation(Toptan)</td>\n",
       "      <td>0.122154</td>\n",
       "    </tr>\n",
       "    <tr>\n",
       "      <th>2</th>\n",
       "      <td>Interest Rate</td>\n",
       "      <td>0.077130</td>\n",
       "    </tr>\n",
       "    <tr>\n",
       "      <th>3</th>\n",
       "      <td>GDP</td>\n",
       "      <td>0.074893</td>\n",
       "    </tr>\n",
       "    <tr>\n",
       "      <th>4</th>\n",
       "      <td>Unemployment</td>\n",
       "      <td>0.014096</td>\n",
       "    </tr>\n",
       "  </tbody>\n",
       "</table>\n",
       "</div>"
      ],
      "text/plain": [
       "            Features   Weights\n",
       "0   Inflation (TÜFE) -0.145672\n",
       "1  Inflation(Toptan)  0.122154\n",
       "2      Interest Rate  0.077130\n",
       "3                GDP  0.074893\n",
       "4       Unemployment  0.014096"
      ]
     },
     "execution_count": 28,
     "metadata": {},
     "output_type": "execute_result"
    }
   ],
   "source": [
    "reg_summary = pd.DataFrame(inputs.columns.values, columns = ['Features'])\n",
    "reg_summary ['Weights'] = reg.coef_\n",
    "reg_summary\n",
    "\n",
    "#positive weight means there is a positive relationship between the feature in question and the target.\n",
    "#negative weight means there is a negative relationship between the two.\n"
   ]
  },
  {
   "cell_type": "markdown",
   "metadata": {},
   "source": [
    "# Testing"
   ]
  },
  {
   "cell_type": "code",
   "execution_count": 29,
   "metadata": {},
   "outputs": [],
   "source": [
    "y_hat_test = reg.predict(X_test)"
   ]
  },
  {
   "cell_type": "code",
   "execution_count": 30,
   "metadata": {},
   "outputs": [
    {
     "data": {
      "text/plain": [
       "array([0.45026979, 0.34238216, 0.5959747 ])"
      ]
     },
     "execution_count": 30,
     "metadata": {},
     "output_type": "execute_result"
    }
   ],
   "source": [
    "y_hat_test"
   ]
  },
  {
   "cell_type": "code",
   "execution_count": 31,
   "metadata": {
    "scrolled": true
   },
   "outputs": [
    {
     "data": {
      "image/png": "[encoded data removed]",
      "text/plain": [
       "<Figure size 432x288 with 1 Axes>"
      ]
     },
     "metadata": {
      "needs_background": "light"
     },
     "output_type": "display_data"
    }
   ],
   "source": [
    "plt.scatter(y_train, y_hat)\n",
    "plt.xlabel('Targets(y_train)', size = 18)\n",
    "plt.ylabel('Predictions(y_hat)', size = 18)\n",
    "plt.xlim(6,13)\n",
    "plt.ylim(6,13)\n",
    "plt.show()"
   ]
  },
  {
   "cell_type": "markdown",
   "metadata": {},
   "source": [
    "# Measuring the Model's Performance"
   ]
  },
  {
   "cell_type": "code",
   "execution_count": 32,
   "metadata": {},
   "outputs": [
    {
     "data": {
      "text/html": [
       "<div>\n",
       "<style scoped>\n",
       "    .dataframe tbody tr th:only-of-type {\n",
       "        vertical-align: middle;\n",
       "    }\n",
       "\n",
       "    .dataframe tbody tr th {\n",
       "        vertical-align: top;\n",
       "    }\n",
       "\n",
       "    .dataframe thead th {\n",
       "        text-align: right;\n",
       "    }\n",
       "</style>\n",
       "<table border=\"1\" class=\"dataframe\">\n",
       "  <thead>\n",
       "    <tr style=\"text-align: right;\">\n",
       "      <th></th>\n",
       "      <th>Predictions</th>\n",
       "    </tr>\n",
       "  </thead>\n",
       "  <tbody>\n",
       "    <tr>\n",
       "      <th>0</th>\n",
       "      <td>0.450270</td>\n",
       "    </tr>\n",
       "    <tr>\n",
       "      <th>1</th>\n",
       "      <td>0.342382</td>\n",
       "    </tr>\n",
       "    <tr>\n",
       "      <th>2</th>\n",
       "      <td>0.595975</td>\n",
       "    </tr>\n",
       "  </tbody>\n",
       "</table>\n",
       "</div>"
      ],
      "text/plain": [
       "   Predictions\n",
       "0     0.450270\n",
       "1     0.342382\n",
       "2     0.595975"
      ]
     },
     "execution_count": 32,
     "metadata": {},
     "output_type": "execute_result"
    }
   ],
   "source": [
    "df_pf = pd.DataFrame(y_hat_test, columns = ['Predictions'])\n",
    "df_pf"
   ]
  },
  {
   "cell_type": "code",
   "execution_count": 33,
   "metadata": {},
   "outputs": [
    {
     "data": {
      "text/html": [
       "<div>\n",
       "<style scoped>\n",
       "    .dataframe tbody tr th:only-of-type {\n",
       "        vertical-align: middle;\n",
       "    }\n",
       "\n",
       "    .dataframe tbody tr th {\n",
       "        vertical-align: top;\n",
       "    }\n",
       "\n",
       "    .dataframe thead th {\n",
       "        text-align: right;\n",
       "    }\n",
       "</style>\n",
       "<table border=\"1\" class=\"dataframe\">\n",
       "  <thead>\n",
       "    <tr style=\"text-align: right;\">\n",
       "      <th></th>\n",
       "      <th>Predictions</th>\n",
       "      <th>Target</th>\n",
       "    </tr>\n",
       "  </thead>\n",
       "  <tbody>\n",
       "    <tr>\n",
       "      <th>0</th>\n",
       "      <td>0.450270</td>\n",
       "      <td>0.3428</td>\n",
       "    </tr>\n",
       "    <tr>\n",
       "      <th>1</th>\n",
       "      <td>0.342382</td>\n",
       "      <td>NaN</td>\n",
       "    </tr>\n",
       "    <tr>\n",
       "      <th>2</th>\n",
       "      <td>0.595975</td>\n",
       "      <td>NaN</td>\n",
       "    </tr>\n",
       "  </tbody>\n",
       "</table>\n",
       "</div>"
      ],
      "text/plain": [
       "   Predictions  Target\n",
       "0     0.450270  0.3428\n",
       "1     0.342382     NaN\n",
       "2     0.595975     NaN"
      ]
     },
     "execution_count": 33,
     "metadata": {},
     "output_type": "execute_result"
    }
   ],
   "source": [
    "df_pf['Target'] = y_test\n",
    "df_pf"
   ]
  },
  {
   "cell_type": "code",
   "execution_count": 34,
   "metadata": {},
   "outputs": [],
   "source": [
    "y_test = y_test.reset_index(drop = True)"
   ]
  },
  {
   "cell_type": "code",
   "execution_count": 35,
   "metadata": {},
   "outputs": [],
   "source": [
    "df_pf['Target'] = y_test"
   ]
  },
  {
   "cell_type": "code",
   "execution_count": 36,
   "metadata": {},
   "outputs": [],
   "source": [
    "df_pf['Residuals'] = df_pf ['Target'] - df_pf ['Predictions']"
   ]
  },
  {
   "cell_type": "code",
   "execution_count": 37,
   "metadata": {},
   "outputs": [
    {
     "data": {
      "text/html": [
       "<div>\n",
       "<style scoped>\n",
       "    .dataframe tbody tr th:only-of-type {\n",
       "        vertical-align: middle;\n",
       "    }\n",
       "\n",
       "    .dataframe tbody tr th {\n",
       "        vertical-align: top;\n",
       "    }\n",
       "\n",
       "    .dataframe thead th {\n",
       "        text-align: right;\n",
       "    }\n",
       "</style>\n",
       "<table border=\"1\" class=\"dataframe\">\n",
       "  <thead>\n",
       "    <tr style=\"text-align: right;\">\n",
       "      <th></th>\n",
       "      <th>Predictions</th>\n",
       "      <th>Target</th>\n",
       "      <th>Residuals</th>\n",
       "      <th>Differences %</th>\n",
       "    </tr>\n",
       "  </thead>\n",
       "  <tbody>\n",
       "    <tr>\n",
       "      <th>0</th>\n",
       "      <td>0.450270</td>\n",
       "      <td>0.4983</td>\n",
       "      <td>0.048030</td>\n",
       "      <td>9.638814</td>\n",
       "    </tr>\n",
       "    <tr>\n",
       "      <th>1</th>\n",
       "      <td>0.342382</td>\n",
       "      <td>0.3428</td>\n",
       "      <td>0.000418</td>\n",
       "      <td>0.121891</td>\n",
       "    </tr>\n",
       "    <tr>\n",
       "      <th>2</th>\n",
       "      <td>0.595975</td>\n",
       "      <td>0.4760</td>\n",
       "      <td>-0.119975</td>\n",
       "      <td>25.204768</td>\n",
       "    </tr>\n",
       "  </tbody>\n",
       "</table>\n",
       "</div>"
      ],
      "text/plain": [
       "   Predictions  Target  Residuals  Differences %\n",
       "0     0.450270  0.4983   0.048030       9.638814\n",
       "1     0.342382  0.3428   0.000418       0.121891\n",
       "2     0.595975  0.4760  -0.119975      25.204768"
      ]
     },
     "execution_count": 37,
     "metadata": {},
     "output_type": "execute_result"
    }
   ],
   "source": [
    "df_pf ['Differences %'] = np.absolute(df_pf ['Residuals'] / df_pf['Target']*100)\n",
    "df_pf"
   ]
  },
  {
   "cell_type": "code",
   "execution_count": 38,
   "metadata": {},
   "outputs": [
    {
     "data": {
      "text/html": [
       "<div>\n",
       "<style scoped>\n",
       "    .dataframe tbody tr th:only-of-type {\n",
       "        vertical-align: middle;\n",
       "    }\n",
       "\n",
       "    .dataframe tbody tr th {\n",
       "        vertical-align: top;\n",
       "    }\n",
       "\n",
       "    .dataframe thead th {\n",
       "        text-align: right;\n",
       "    }\n",
       "</style>\n",
       "<table border=\"1\" class=\"dataframe\">\n",
       "  <thead>\n",
       "    <tr style=\"text-align: right;\">\n",
       "      <th></th>\n",
       "      <th>Predictions</th>\n",
       "      <th>Target</th>\n",
       "      <th>Residuals</th>\n",
       "      <th>Differences %</th>\n",
       "    </tr>\n",
       "  </thead>\n",
       "  <tbody>\n",
       "    <tr>\n",
       "      <th>count</th>\n",
       "      <td>3.000000</td>\n",
       "      <td>3.000000</td>\n",
       "      <td>3.000000</td>\n",
       "      <td>3.000000</td>\n",
       "    </tr>\n",
       "    <tr>\n",
       "      <th>mean</th>\n",
       "      <td>0.462876</td>\n",
       "      <td>0.439033</td>\n",
       "      <td>-0.023842</td>\n",
       "      <td>11.655158</td>\n",
       "    </tr>\n",
       "    <tr>\n",
       "      <th>std</th>\n",
       "      <td>0.127265</td>\n",
       "      <td>0.084083</td>\n",
       "      <td>0.086590</td>\n",
       "      <td>12.662421</td>\n",
       "    </tr>\n",
       "    <tr>\n",
       "      <th>min</th>\n",
       "      <td>0.342382</td>\n",
       "      <td>0.342800</td>\n",
       "      <td>-0.119975</td>\n",
       "      <td>0.121891</td>\n",
       "    </tr>\n",
       "    <tr>\n",
       "      <th>25%</th>\n",
       "      <td>0.396326</td>\n",
       "      <td>0.409400</td>\n",
       "      <td>-0.059778</td>\n",
       "      <td>4.880352</td>\n",
       "    </tr>\n",
       "    <tr>\n",
       "      <th>50%</th>\n",
       "      <td>0.450270</td>\n",
       "      <td>0.476000</td>\n",
       "      <td>0.000418</td>\n",
       "      <td>9.638814</td>\n",
       "    </tr>\n",
       "    <tr>\n",
       "      <th>75%</th>\n",
       "      <td>0.523122</td>\n",
       "      <td>0.487150</td>\n",
       "      <td>0.024224</td>\n",
       "      <td>17.421791</td>\n",
       "    </tr>\n",
       "    <tr>\n",
       "      <th>max</th>\n",
       "      <td>0.595975</td>\n",
       "      <td>0.498300</td>\n",
       "      <td>0.048030</td>\n",
       "      <td>25.204768</td>\n",
       "    </tr>\n",
       "  </tbody>\n",
       "</table>\n",
       "</div>"
      ],
      "text/plain": [
       "       Predictions    Target  Residuals  Differences %\n",
       "count     3.000000  3.000000   3.000000       3.000000\n",
       "mean      0.462876  0.439033  -0.023842      11.655158\n",
       "std       0.127265  0.084083   0.086590      12.662421\n",
       "min       0.342382  0.342800  -0.119975       0.121891\n",
       "25%       0.396326  0.409400  -0.059778       4.880352\n",
       "50%       0.450270  0.476000   0.000418       9.638814\n",
       "75%       0.523122  0.487150   0.024224      17.421791\n",
       "max       0.595975  0.498300   0.048030      25.204768"
      ]
     },
     "execution_count": 38,
     "metadata": {},
     "output_type": "execute_result"
    }
   ],
   "source": [
    "df_pf.describe(include = 'all')"
   ]
  },
  {
   "cell_type": "code",
   "execution_count": 39,
   "metadata": {},
   "outputs": [
    {
     "data": {
      "text/html": [
       "<div>\n",
       "<style scoped>\n",
       "    .dataframe tbody tr th:only-of-type {\n",
       "        vertical-align: middle;\n",
       "    }\n",
       "\n",
       "    .dataframe tbody tr th {\n",
       "        vertical-align: top;\n",
       "    }\n",
       "\n",
       "    .dataframe thead th {\n",
       "        text-align: right;\n",
       "    }\n",
       "</style>\n",
       "<table border=\"1\" class=\"dataframe\">\n",
       "  <thead>\n",
       "    <tr style=\"text-align: right;\">\n",
       "      <th></th>\n",
       "      <th>Predictions</th>\n",
       "      <th>Target</th>\n",
       "      <th>Residuals</th>\n",
       "      <th>Differences %</th>\n",
       "    </tr>\n",
       "  </thead>\n",
       "  <tbody>\n",
       "    <tr>\n",
       "      <th>1</th>\n",
       "      <td>0.342382</td>\n",
       "      <td>0.342800</td>\n",
       "      <td>0.000418</td>\n",
       "      <td>0.121891</td>\n",
       "    </tr>\n",
       "    <tr>\n",
       "      <th>0</th>\n",
       "      <td>0.450270</td>\n",
       "      <td>0.498300</td>\n",
       "      <td>0.048030</td>\n",
       "      <td>9.638814</td>\n",
       "    </tr>\n",
       "    <tr>\n",
       "      <th>2</th>\n",
       "      <td>0.595975</td>\n",
       "      <td>0.476000</td>\n",
       "      <td>-0.119975</td>\n",
       "      <td>25.204768</td>\n",
       "    </tr>\n",
       "  </tbody>\n",
       "</table>\n",
       "</div>"
      ],
      "text/plain": [
       "   Predictions   Target  Residuals  Differences %\n",
       "1     0.342382 0.342800   0.000418       0.121891\n",
       "0     0.450270 0.498300   0.048030       9.638814\n",
       "2     0.595975 0.476000  -0.119975      25.204768"
      ]
     },
     "execution_count": 39,
     "metadata": {},
     "output_type": "execute_result"
    }
   ],
   "source": [
    "pd.set_option('display.float_format', lambda x: '%2f' % x)\n",
    "df_pf.sort_values(by = ['Differences %'])"
   ]
  },
  {
   "cell_type": "code",
   "execution_count": null,
   "metadata": {},
   "outputs": [],
   "source": []
  },
  {
   "cell_type": "code",
   "execution_count": null,
   "metadata": {},
   "outputs": [],
   "source": []
  },
  {
   "cell_type": "code",
   "execution_count": 40,
   "metadata": {},
   "outputs": [],
   "source": [
    "from sklearn.metrics import mean_absolute_error,mean_squared_error"
   ]
  },
  {
   "cell_type": "code",
   "execution_count": 41,
   "metadata": {},
   "outputs": [
    {
     "ename": "NameError",
     "evalue": "name 'test_predictions' is not defined",
     "output_type": "error",
     "traceback": [
      "\u001b[1;31m---------------------------------------------------------------------------\u001b[0m",
      "\u001b[1;31mNameError\u001b[0m                                 Traceback (most recent call last)",
      "\u001b[1;32m<ipython-input-41-213fef64d3d8>\u001b[0m in \u001b[0;36m<module>\u001b[1;34m\u001b[0m\n\u001b[1;32m----> 1\u001b[1;33m \u001b[0mMAE\u001b[0m \u001b[1;33m=\u001b[0m \u001b[0mmean_absolute_error\u001b[0m\u001b[1;33m(\u001b[0m\u001b[0my_test\u001b[0m\u001b[1;33m,\u001b[0m\u001b[0mtest_predictions\u001b[0m\u001b[1;33m)\u001b[0m\u001b[1;33m\u001b[0m\u001b[1;33m\u001b[0m\u001b[0m\n\u001b[0m\u001b[0;32m      2\u001b[0m \u001b[0mMSE\u001b[0m \u001b[1;33m=\u001b[0m \u001b[0mmean_squared_error\u001b[0m\u001b[1;33m(\u001b[0m\u001b[0my_test\u001b[0m\u001b[1;33m,\u001b[0m\u001b[0mtest_predictions\u001b[0m\u001b[1;33m)\u001b[0m\u001b[1;33m\u001b[0m\u001b[1;33m\u001b[0m\u001b[0m\n\u001b[0;32m      3\u001b[0m \u001b[0mRMSE\u001b[0m \u001b[1;33m=\u001b[0m \u001b[0mnp\u001b[0m\u001b[1;33m.\u001b[0m\u001b[0msqrt\u001b[0m\u001b[1;33m(\u001b[0m\u001b[0mMSE\u001b[0m\u001b[1;33m)\u001b[0m\u001b[1;33m\u001b[0m\u001b[1;33m\u001b[0m\u001b[0m\n",
      "\u001b[1;31mNameError\u001b[0m: name 'test_predictions' is not defined"
     ]
    }
   ],
   "source": [
    "MAE = mean_absolute_error(y_test,test_predictions)\n",
    "MSE = mean_squared_error(y_test,test_predictions)\n",
    "RMSE = np.sqrt(MSE)"
   ]
  },
  {
   "cell_type": "code",
   "execution_count": null,
   "metadata": {},
   "outputs": [],
   "source": [
    "MAE"
   ]
  },
  {
   "cell_type": "code",
   "execution_count": null,
   "metadata": {},
   "outputs": [],
   "source": [
    "MSE"
   ]
  },
  {
   "cell_type": "code",
   "execution_count": null,
   "metadata": {},
   "outputs": [],
   "source": [
    "RMSE"
   ]
  },
  {
   "cell_type": "code",
   "execution_count": null,
   "metadata": {},
   "outputs": [],
   "source": [
    "df['AKP'].mean()"
   ]
  },
  {
   "cell_type": "code",
   "execution_count": null,
   "metadata": {},
   "outputs": [],
   "source": [
    "final_model = LinearRegression()"
   ]
  },
  {
   "cell_type": "code",
   "execution_count": null,
   "metadata": {},
   "outputs": [],
   "source": [
    "final_model.fit(X,y)"
   ]
  },
  {
   "cell_type": "code",
   "execution_count": null,
   "metadata": {},
   "outputs": [],
   "source": [
    "final_model.score(X_test, y_test)"
   ]
  },
  {
   "cell_type": "code",
   "execution_count": null,
   "metadata": {},
   "outputs": [],
   "source": [
    "y_hat = final_model.predict(X)"
   ]
  },
  {
   "cell_type": "code",
   "execution_count": null,
   "metadata": {},
   "outputs": [],
   "source": [
    "fig,axes = plt.subplots(nrows=1,ncols=6,figsize=(16,6))\n",
    "\n",
    "axes[1].plot(df['Inflation (TÜFE)'],df['AKP'],'o')\n",
    "axes[1].plot(df['Inflation (TÜFE)'],y_hat,'o',color='red')\n",
    "axes[1].set_title(\"Inflation (TÜFE)\")\n",
    "axes[1].set_ylabel(\"AKP\")\n",
    "\n",
    "axes[2].plot(df['Inflation(Toptan)'],df['AKP'],'o')\n",
    "axes[2].plot(df['Inflation(Toptan)'],y_hat,'o',color='red')\n",
    "axes[2].set_title(\"Inflation(Toptan)\");\n",
    "axes[2].set_ylabel(\"AKP\")\n",
    "\n",
    "axes[3].plot(df['Interest Rate'],df['AKP'],'o')\n",
    "axes[3].plot(df['Interest Rate'],y_hat,'o',color='red')\n",
    "axes[3].set_title(\"Interest Rate\");\n",
    "axes[3].set_ylabel(\"AKP\")\n",
    "\n",
    "axes[4].plot(df['GDP'],df['AKP'],'o')\n",
    "axes[4].plot(df['GDP'],y_hat,'o',color='red')\n",
    "axes[4].set_title(\"GDP\");\n",
    "axes[4].set_ylabel(\"AKP\")\n",
    "\n",
    "axes[5].plot(df['Unemployment'],df['AKP'],'o')\n",
    "axes[5].plot(df['Unemployment'],y_hat,'o',color='red')\n",
    "axes[5].set_title(\"Unemployment\");\n",
    "axes[5].set_ylabel(\"AKP\")\n",
    "plt.tight_layout();"
   ]
  },
  {
   "cell_type": "code",
   "execution_count": null,
   "metadata": {},
   "outputs": [],
   "source": [
    "y_hat = pd.DataFrame(y_hat)"
   ]
  },
  {
   "cell_type": "code",
   "execution_count": null,
   "metadata": {},
   "outputs": [],
   "source": [
    "y_hat.columns.values"
   ]
  },
  {
   "cell_type": "code",
   "execution_count": null,
   "metadata": {},
   "outputs": [],
   "source": [
    "y_hat"
   ]
  },
  {
   "cell_type": "code",
   "execution_count": null,
   "metadata": {},
   "outputs": [],
   "source": []
  }
 ],
 "metadata": {
  "kernelspec": {
   "display_name": "Python 3",
   "language": "python",
   "name": "python3"
  },
  "language_info": {
   "codemirror_mode": {
    "name": "ipython",
    "version": 3
   },
   "file_extension": ".py",
   "mimetype": "text/x-python",
   "name": "python",
   "nbconvert_exporter": "python",
   "pygments_lexer": "ipython3",
   "version": "3.8.5"
  }
 },
 "nbformat": 4,
 "nbformat_minor": 4
}
