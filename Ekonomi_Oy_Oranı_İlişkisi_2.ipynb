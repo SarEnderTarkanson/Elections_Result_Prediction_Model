{
 "cells": [
  {
   "cell_type": "markdown",
   "metadata": {},
   "source": [
    "# Reading the Dataset"
   ]
  },
  {
   "cell_type": "code",
   "execution_count": 1,
   "metadata": {},
   "outputs": [],
   "source": [
    "import numpy as np\n",
    "import pandas as pd\n",
    "import matplotlib.pyplot as plt\n",
    "import seaborn as sns"
   ]
  },
  {
   "cell_type": "code",
   "execution_count": 2,
   "metadata": {},
   "outputs": [],
   "source": [
    "df = pd.read_excel('DataSet_without_referandums_averages.xlsx')"
   ]
  },
  {
   "cell_type": "code",
   "execution_count": 3,
   "metadata": {},
   "outputs": [
    {
     "data": {
      "text/html": [
       "<div>\n",
       "<style scoped>\n",
       "    .dataframe tbody tr th:only-of-type {\n",
       "        vertical-align: middle;\n",
       "    }\n",
       "\n",
       "    .dataframe tbody tr th {\n",
       "        vertical-align: top;\n",
       "    }\n",
       "\n",
       "    .dataframe thead th {\n",
       "        text-align: right;\n",
       "    }\n",
       "</style>\n",
       "<table border=\"1\" class=\"dataframe\">\n",
       "  <thead>\n",
       "    <tr style=\"text-align: right;\">\n",
       "      <th></th>\n",
       "      <th>Year</th>\n",
       "      <th>Dollar</th>\n",
       "      <th>Inflation (TÜFE)</th>\n",
       "      <th>Inflation(Toptan)</th>\n",
       "      <th>Interest Rate</th>\n",
       "      <th>Average Inflation</th>\n",
       "      <th>GDP</th>\n",
       "      <th>Unemployment</th>\n",
       "      <th>AKP</th>\n",
       "      <th>Unnamed: 9</th>\n",
       "    </tr>\n",
       "  </thead>\n",
       "  <tbody>\n",
       "    <tr>\n",
       "      <th>0</th>\n",
       "      <td>2002</td>\n",
       "      <td>1.509</td>\n",
       "      <td>0.2970</td>\n",
       "      <td>0.3080</td>\n",
       "      <td>0.480</td>\n",
       "      <td>0.30250</td>\n",
       "      <td>238000000000</td>\n",
       "      <td>0.103</td>\n",
       "      <td>0.34280</td>\n",
       "      <td>NaN</td>\n",
       "    </tr>\n",
       "    <tr>\n",
       "      <th>1</th>\n",
       "      <td>2004</td>\n",
       "      <td>1.425</td>\n",
       "      <td>0.0930</td>\n",
       "      <td>0.1380</td>\n",
       "      <td>0.199</td>\n",
       "      <td>0.11550</td>\n",
       "      <td>404000000000</td>\n",
       "      <td>0.108</td>\n",
       "      <td>0.41670</td>\n",
       "      <td>NaN</td>\n",
       "    </tr>\n",
       "    <tr>\n",
       "      <th>2</th>\n",
       "      <td>2007</td>\n",
       "      <td>1.305</td>\n",
       "      <td>0.0839</td>\n",
       "      <td>0.0594</td>\n",
       "      <td>0.169</td>\n",
       "      <td>0.07165</td>\n",
       "      <td>677000000000</td>\n",
       "      <td>0.103</td>\n",
       "      <td>0.46580</td>\n",
       "      <td>NaN</td>\n",
       "    </tr>\n",
       "    <tr>\n",
       "      <th>3</th>\n",
       "      <td>2009</td>\n",
       "      <td>1.551</td>\n",
       "      <td>0.0653</td>\n",
       "      <td>0.0593</td>\n",
       "      <td>0.088</td>\n",
       "      <td>0.06230</td>\n",
       "      <td>645000000000</td>\n",
       "      <td>0.140</td>\n",
       "      <td>0.38390</td>\n",
       "      <td>NaN</td>\n",
       "    </tr>\n",
       "    <tr>\n",
       "      <th>4</th>\n",
       "      <td>2011</td>\n",
       "      <td>1.674</td>\n",
       "      <td>0.1045</td>\n",
       "      <td>0.1333</td>\n",
       "      <td>0.100</td>\n",
       "      <td>0.11890</td>\n",
       "      <td>730000000000</td>\n",
       "      <td>0.098</td>\n",
       "      <td>0.49830</td>\n",
       "      <td>NaN</td>\n",
       "    </tr>\n",
       "    <tr>\n",
       "      <th>5</th>\n",
       "      <td>2014</td>\n",
       "      <td>2.190</td>\n",
       "      <td>0.0817</td>\n",
       "      <td>0.0636</td>\n",
       "      <td>0.098</td>\n",
       "      <td>0.07265</td>\n",
       "      <td>934000000000</td>\n",
       "      <td>0.099</td>\n",
       "      <td>0.47330</td>\n",
       "      <td>NaN</td>\n",
       "    </tr>\n",
       "    <tr>\n",
       "      <th>6</th>\n",
       "      <td>2015</td>\n",
       "      <td>2.720</td>\n",
       "      <td>0.0881</td>\n",
       "      <td>0.0571</td>\n",
       "      <td>0.102</td>\n",
       "      <td>0.07260</td>\n",
       "      <td>855000000000</td>\n",
       "      <td>0.103</td>\n",
       "      <td>0.45185</td>\n",
       "      <td>NaN</td>\n",
       "    </tr>\n",
       "    <tr>\n",
       "      <th>7</th>\n",
       "      <td>2018</td>\n",
       "      <td>4.820</td>\n",
       "      <td>0.2030</td>\n",
       "      <td>0.3364</td>\n",
       "      <td>0.190</td>\n",
       "      <td>0.26970</td>\n",
       "      <td>789000000000</td>\n",
       "      <td>0.110</td>\n",
       "      <td>0.47600</td>\n",
       "      <td>NaN</td>\n",
       "    </tr>\n",
       "    <tr>\n",
       "      <th>8</th>\n",
       "      <td>2019</td>\n",
       "      <td>5.677</td>\n",
       "      <td>0.1184</td>\n",
       "      <td>0.0736</td>\n",
       "      <td>0.140</td>\n",
       "      <td>0.09600</td>\n",
       "      <td>749000000000</td>\n",
       "      <td>0.134</td>\n",
       "      <td>0.44330</td>\n",
       "      <td>NaN</td>\n",
       "    </tr>\n",
       "  </tbody>\n",
       "</table>\n",
       "</div>"
      ],
      "text/plain": [
       "   Year  Dollar  Inflation (TÜFE)  Inflation(Toptan)  Interest Rate  \\\n",
       "0  2002   1.509            0.2970             0.3080          0.480   \n",
       "1  2004   1.425            0.0930             0.1380          0.199   \n",
       "2  2007   1.305            0.0839             0.0594          0.169   \n",
       "3  2009   1.551            0.0653             0.0593          0.088   \n",
       "4  2011   1.674            0.1045             0.1333          0.100   \n",
       "5  2014   2.190            0.0817             0.0636          0.098   \n",
       "6  2015   2.720            0.0881             0.0571          0.102   \n",
       "7  2018   4.820            0.2030             0.3364          0.190   \n",
       "8  2019   5.677            0.1184             0.0736          0.140   \n",
       "\n",
       "   Average Inflation           GDP  Unemployment      AKP  Unnamed: 9  \n",
       "0            0.30250  238000000000         0.103  0.34280         NaN  \n",
       "1            0.11550  404000000000         0.108  0.41670         NaN  \n",
       "2            0.07165  677000000000         0.103  0.46580         NaN  \n",
       "3            0.06230  645000000000         0.140  0.38390         NaN  \n",
       "4            0.11890  730000000000         0.098  0.49830         NaN  \n",
       "5            0.07265  934000000000         0.099  0.47330         NaN  \n",
       "6            0.07260  855000000000         0.103  0.45185         NaN  \n",
       "7            0.26970  789000000000         0.110  0.47600         NaN  \n",
       "8            0.09600  749000000000         0.134  0.44330         NaN  "
      ]
     },
     "execution_count": 3,
     "metadata": {},
     "output_type": "execute_result"
    }
   ],
   "source": [
    "df"
   ]
  },
  {
   "cell_type": "code",
   "execution_count": 4,
   "metadata": {},
   "outputs": [],
   "source": [
    "df = df.drop('Unnamed: 9', axis = 1)"
   ]
  },
  {
   "cell_type": "code",
   "execution_count": 5,
   "metadata": {},
   "outputs": [
    {
     "data": {
      "text/html": [
       "<div>\n",
       "<style scoped>\n",
       "    .dataframe tbody tr th:only-of-type {\n",
       "        vertical-align: middle;\n",
       "    }\n",
       "\n",
       "    .dataframe tbody tr th {\n",
       "        vertical-align: top;\n",
       "    }\n",
       "\n",
       "    .dataframe thead th {\n",
       "        text-align: right;\n",
       "    }\n",
       "</style>\n",
       "<table border=\"1\" class=\"dataframe\">\n",
       "  <thead>\n",
       "    <tr style=\"text-align: right;\">\n",
       "      <th></th>\n",
       "      <th>Year</th>\n",
       "      <th>Dollar</th>\n",
       "      <th>Inflation (TÜFE)</th>\n",
       "      <th>Inflation(Toptan)</th>\n",
       "      <th>Interest Rate</th>\n",
       "      <th>Average Inflation</th>\n",
       "      <th>GDP</th>\n",
       "      <th>Unemployment</th>\n",
       "      <th>AKP</th>\n",
       "    </tr>\n",
       "  </thead>\n",
       "  <tbody>\n",
       "    <tr>\n",
       "      <th>0</th>\n",
       "      <td>2002</td>\n",
       "      <td>1.509</td>\n",
       "      <td>0.2970</td>\n",
       "      <td>0.3080</td>\n",
       "      <td>0.480</td>\n",
       "      <td>0.30250</td>\n",
       "      <td>238000000000</td>\n",
       "      <td>0.103</td>\n",
       "      <td>0.34280</td>\n",
       "    </tr>\n",
       "    <tr>\n",
       "      <th>1</th>\n",
       "      <td>2004</td>\n",
       "      <td>1.425</td>\n",
       "      <td>0.0930</td>\n",
       "      <td>0.1380</td>\n",
       "      <td>0.199</td>\n",
       "      <td>0.11550</td>\n",
       "      <td>404000000000</td>\n",
       "      <td>0.108</td>\n",
       "      <td>0.41670</td>\n",
       "    </tr>\n",
       "    <tr>\n",
       "      <th>2</th>\n",
       "      <td>2007</td>\n",
       "      <td>1.305</td>\n",
       "      <td>0.0839</td>\n",
       "      <td>0.0594</td>\n",
       "      <td>0.169</td>\n",
       "      <td>0.07165</td>\n",
       "      <td>677000000000</td>\n",
       "      <td>0.103</td>\n",
       "      <td>0.46580</td>\n",
       "    </tr>\n",
       "    <tr>\n",
       "      <th>3</th>\n",
       "      <td>2009</td>\n",
       "      <td>1.551</td>\n",
       "      <td>0.0653</td>\n",
       "      <td>0.0593</td>\n",
       "      <td>0.088</td>\n",
       "      <td>0.06230</td>\n",
       "      <td>645000000000</td>\n",
       "      <td>0.140</td>\n",
       "      <td>0.38390</td>\n",
       "    </tr>\n",
       "    <tr>\n",
       "      <th>4</th>\n",
       "      <td>2011</td>\n",
       "      <td>1.674</td>\n",
       "      <td>0.1045</td>\n",
       "      <td>0.1333</td>\n",
       "      <td>0.100</td>\n",
       "      <td>0.11890</td>\n",
       "      <td>730000000000</td>\n",
       "      <td>0.098</td>\n",
       "      <td>0.49830</td>\n",
       "    </tr>\n",
       "    <tr>\n",
       "      <th>5</th>\n",
       "      <td>2014</td>\n",
       "      <td>2.190</td>\n",
       "      <td>0.0817</td>\n",
       "      <td>0.0636</td>\n",
       "      <td>0.098</td>\n",
       "      <td>0.07265</td>\n",
       "      <td>934000000000</td>\n",
       "      <td>0.099</td>\n",
       "      <td>0.47330</td>\n",
       "    </tr>\n",
       "    <tr>\n",
       "      <th>6</th>\n",
       "      <td>2015</td>\n",
       "      <td>2.720</td>\n",
       "      <td>0.0881</td>\n",
       "      <td>0.0571</td>\n",
       "      <td>0.102</td>\n",
       "      <td>0.07260</td>\n",
       "      <td>855000000000</td>\n",
       "      <td>0.103</td>\n",
       "      <td>0.45185</td>\n",
       "    </tr>\n",
       "    <tr>\n",
       "      <th>7</th>\n",
       "      <td>2018</td>\n",
       "      <td>4.820</td>\n",
       "      <td>0.2030</td>\n",
       "      <td>0.3364</td>\n",
       "      <td>0.190</td>\n",
       "      <td>0.26970</td>\n",
       "      <td>789000000000</td>\n",
       "      <td>0.110</td>\n",
       "      <td>0.47600</td>\n",
       "    </tr>\n",
       "    <tr>\n",
       "      <th>8</th>\n",
       "      <td>2019</td>\n",
       "      <td>5.677</td>\n",
       "      <td>0.1184</td>\n",
       "      <td>0.0736</td>\n",
       "      <td>0.140</td>\n",
       "      <td>0.09600</td>\n",
       "      <td>749000000000</td>\n",
       "      <td>0.134</td>\n",
       "      <td>0.44330</td>\n",
       "    </tr>\n",
       "  </tbody>\n",
       "</table>\n",
       "</div>"
      ],
      "text/plain": [
       "   Year  Dollar  Inflation (TÜFE)  Inflation(Toptan)  Interest Rate  \\\n",
       "0  2002   1.509            0.2970             0.3080          0.480   \n",
       "1  2004   1.425            0.0930             0.1380          0.199   \n",
       "2  2007   1.305            0.0839             0.0594          0.169   \n",
       "3  2009   1.551            0.0653             0.0593          0.088   \n",
       "4  2011   1.674            0.1045             0.1333          0.100   \n",
       "5  2014   2.190            0.0817             0.0636          0.098   \n",
       "6  2015   2.720            0.0881             0.0571          0.102   \n",
       "7  2018   4.820            0.2030             0.3364          0.190   \n",
       "8  2019   5.677            0.1184             0.0736          0.140   \n",
       "\n",
       "   Average Inflation           GDP  Unemployment      AKP  \n",
       "0            0.30250  238000000000         0.103  0.34280  \n",
       "1            0.11550  404000000000         0.108  0.41670  \n",
       "2            0.07165  677000000000         0.103  0.46580  \n",
       "3            0.06230  645000000000         0.140  0.38390  \n",
       "4            0.11890  730000000000         0.098  0.49830  \n",
       "5            0.07265  934000000000         0.099  0.47330  \n",
       "6            0.07260  855000000000         0.103  0.45185  \n",
       "7            0.26970  789000000000         0.110  0.47600  \n",
       "8            0.09600  749000000000         0.134  0.44330  "
      ]
     },
     "execution_count": 5,
     "metadata": {},
     "output_type": "execute_result"
    }
   ],
   "source": [
    "df"
   ]
  },
  {
   "cell_type": "code",
   "execution_count": 6,
   "metadata": {},
   "outputs": [
    {
     "name": "stdout",
     "output_type": "stream",
     "text": [
      "<class 'pandas.core.frame.DataFrame'>\n",
      "RangeIndex: 9 entries, 0 to 8\n",
      "Data columns (total 9 columns):\n",
      " #   Column             Non-Null Count  Dtype  \n",
      "---  ------             --------------  -----  \n",
      " 0   Year               9 non-null      int64  \n",
      " 1   Dollar             9 non-null      float64\n",
      " 2   Inflation (TÜFE)   9 non-null      float64\n",
      " 3   Inflation(Toptan)  9 non-null      float64\n",
      " 4   Interest Rate      9 non-null      float64\n",
      " 5   Average Inflation  9 non-null      float64\n",
      " 6   GDP                9 non-null      int64  \n",
      " 7   Unemployment       9 non-null      float64\n",
      " 8   AKP                9 non-null      float64\n",
      "dtypes: float64(7), int64(2)\n",
      "memory usage: 776.0 bytes\n"
     ]
    }
   ],
   "source": [
    "df.info()"
   ]
  },
  {
   "cell_type": "markdown",
   "metadata": {},
   "source": [
    "# Descriptive Statistics"
   ]
  },
  {
   "cell_type": "code",
   "execution_count": 7,
   "metadata": {},
   "outputs": [
    {
     "data": {
      "text/html": [
       "<div>\n",
       "<style scoped>\n",
       "    .dataframe tbody tr th:only-of-type {\n",
       "        vertical-align: middle;\n",
       "    }\n",
       "\n",
       "    .dataframe tbody tr th {\n",
       "        vertical-align: top;\n",
       "    }\n",
       "\n",
       "    .dataframe thead th {\n",
       "        text-align: right;\n",
       "    }\n",
       "</style>\n",
       "<table border=\"1\" class=\"dataframe\">\n",
       "  <thead>\n",
       "    <tr style=\"text-align: right;\">\n",
       "      <th></th>\n",
       "      <th>Year</th>\n",
       "      <th>Dollar</th>\n",
       "      <th>Inflation (TÜFE)</th>\n",
       "      <th>Inflation(Toptan)</th>\n",
       "      <th>Interest Rate</th>\n",
       "      <th>Average Inflation</th>\n",
       "      <th>GDP</th>\n",
       "      <th>Unemployment</th>\n",
       "      <th>AKP</th>\n",
       "    </tr>\n",
       "  </thead>\n",
       "  <tbody>\n",
       "    <tr>\n",
       "      <th>count</th>\n",
       "      <td>9.0</td>\n",
       "      <td>9.000000</td>\n",
       "      <td>9.000000</td>\n",
       "      <td>9.000000</td>\n",
       "      <td>9.000000</td>\n",
       "      <td>9.000000</td>\n",
       "      <td>9.000000e+00</td>\n",
       "      <td>9.000000</td>\n",
       "      <td>9.000000</td>\n",
       "    </tr>\n",
       "    <tr>\n",
       "      <th>mean</th>\n",
       "      <td>2011.0</td>\n",
       "      <td>2.541222</td>\n",
       "      <td>0.126100</td>\n",
       "      <td>0.136522</td>\n",
       "      <td>0.174000</td>\n",
       "      <td>0.131311</td>\n",
       "      <td>6.690000e+11</td>\n",
       "      <td>0.110889</td>\n",
       "      <td>0.439106</td>\n",
       "    </tr>\n",
       "    <tr>\n",
       "      <th>std</th>\n",
       "      <td>6.0</td>\n",
       "      <td>1.610650</td>\n",
       "      <td>0.075527</td>\n",
       "      <td>0.110036</td>\n",
       "      <td>0.122234</td>\n",
       "      <td>0.090359</td>\n",
       "      <td>2.196497e+11</td>\n",
       "      <td>0.015350</td>\n",
       "      <td>0.049688</td>\n",
       "    </tr>\n",
       "    <tr>\n",
       "      <th>min</th>\n",
       "      <td>2002.0</td>\n",
       "      <td>1.305000</td>\n",
       "      <td>0.065300</td>\n",
       "      <td>0.057100</td>\n",
       "      <td>0.088000</td>\n",
       "      <td>0.062300</td>\n",
       "      <td>2.380000e+11</td>\n",
       "      <td>0.098000</td>\n",
       "      <td>0.342800</td>\n",
       "    </tr>\n",
       "    <tr>\n",
       "      <th>25%</th>\n",
       "      <td>2007.0</td>\n",
       "      <td>1.509000</td>\n",
       "      <td>0.083900</td>\n",
       "      <td>0.059400</td>\n",
       "      <td>0.100000</td>\n",
       "      <td>0.072600</td>\n",
       "      <td>6.450000e+11</td>\n",
       "      <td>0.103000</td>\n",
       "      <td>0.416700</td>\n",
       "    </tr>\n",
       "    <tr>\n",
       "      <th>50%</th>\n",
       "      <td>2011.0</td>\n",
       "      <td>1.674000</td>\n",
       "      <td>0.093000</td>\n",
       "      <td>0.073600</td>\n",
       "      <td>0.140000</td>\n",
       "      <td>0.096000</td>\n",
       "      <td>7.300000e+11</td>\n",
       "      <td>0.103000</td>\n",
       "      <td>0.451850</td>\n",
       "    </tr>\n",
       "    <tr>\n",
       "      <th>75%</th>\n",
       "      <td>2015.0</td>\n",
       "      <td>2.720000</td>\n",
       "      <td>0.118400</td>\n",
       "      <td>0.138000</td>\n",
       "      <td>0.190000</td>\n",
       "      <td>0.118900</td>\n",
       "      <td>7.890000e+11</td>\n",
       "      <td>0.110000</td>\n",
       "      <td>0.473300</td>\n",
       "    </tr>\n",
       "    <tr>\n",
       "      <th>max</th>\n",
       "      <td>2019.0</td>\n",
       "      <td>5.677000</td>\n",
       "      <td>0.297000</td>\n",
       "      <td>0.336400</td>\n",
       "      <td>0.480000</td>\n",
       "      <td>0.302500</td>\n",
       "      <td>9.340000e+11</td>\n",
       "      <td>0.140000</td>\n",
       "      <td>0.498300</td>\n",
       "    </tr>\n",
       "  </tbody>\n",
       "</table>\n",
       "</div>"
      ],
      "text/plain": [
       "         Year    Dollar  Inflation (TÜFE)  Inflation(Toptan)  Interest Rate  \\\n",
       "count     9.0  9.000000          9.000000           9.000000       9.000000   \n",
       "mean   2011.0  2.541222          0.126100           0.136522       0.174000   \n",
       "std       6.0  1.610650          0.075527           0.110036       0.122234   \n",
       "min    2002.0  1.305000          0.065300           0.057100       0.088000   \n",
       "25%    2007.0  1.509000          0.083900           0.059400       0.100000   \n",
       "50%    2011.0  1.674000          0.093000           0.073600       0.140000   \n",
       "75%    2015.0  2.720000          0.118400           0.138000       0.190000   \n",
       "max    2019.0  5.677000          0.297000           0.336400       0.480000   \n",
       "\n",
       "       Average Inflation           GDP  Unemployment       AKP  \n",
       "count           9.000000  9.000000e+00      9.000000  9.000000  \n",
       "mean            0.131311  6.690000e+11      0.110889  0.439106  \n",
       "std             0.090359  2.196497e+11      0.015350  0.049688  \n",
       "min             0.062300  2.380000e+11      0.098000  0.342800  \n",
       "25%             0.072600  6.450000e+11      0.103000  0.416700  \n",
       "50%             0.096000  7.300000e+11      0.103000  0.451850  \n",
       "75%             0.118900  7.890000e+11      0.110000  0.473300  \n",
       "max             0.302500  9.340000e+11      0.140000  0.498300  "
      ]
     },
     "execution_count": 7,
     "metadata": {},
     "output_type": "execute_result"
    }
   ],
   "source": [
    "df.describe(include = 'all')"
   ]
  },
  {
   "cell_type": "markdown",
   "metadata": {},
   "source": [
    "# Determining Inputs and Targets"
   ]
  },
  {
   "cell_type": "code",
   "execution_count": 8,
   "metadata": {},
   "outputs": [],
   "source": [
    "X = df.drop(['AKP', 'Year', 'Dollar', 'Inflation (TÜFE)', 'Inflation(Toptan)'] ,axis=1)\n",
    "y = df['AKP']"
   ]
  },
  {
   "cell_type": "markdown",
   "metadata": {},
   "source": [
    "# Scaling the Inputs(Features)"
   ]
  },
  {
   "cell_type": "code",
   "execution_count": 9,
   "metadata": {},
   "outputs": [],
   "source": [
    "from sklearn.preprocessing import StandardScaler"
   ]
  },
  {
   "cell_type": "code",
   "execution_count": 10,
   "metadata": {},
   "outputs": [],
   "source": [
    "from sklearn.model_selection import train_test_split"
   ]
  },
  {
   "cell_type": "code",
   "execution_count": 11,
   "metadata": {},
   "outputs": [],
   "source": [
    "scaler = StandardScaler()"
   ]
  },
  {
   "cell_type": "code",
   "execution_count": 12,
   "metadata": {},
   "outputs": [
    {
     "data": {
      "text/plain": [
       "StandardScaler()"
      ]
     },
     "execution_count": 12,
     "metadata": {},
     "output_type": "execute_result"
    }
   ],
   "source": [
    "scaler.fit(X)"
   ]
  },
  {
   "cell_type": "code",
   "execution_count": 13,
   "metadata": {},
   "outputs": [],
   "source": [
    "X_scaled = scaler.transform(X)"
   ]
  },
  {
   "cell_type": "markdown",
   "metadata": {},
   "source": [
    "# Splitting the Data"
   ]
  },
  {
   "cell_type": "code",
   "execution_count": 14,
   "metadata": {},
   "outputs": [],
   "source": [
    "X_train, X_test, y_train, y_test = train_test_split(X_scaled, y, test_size=0.2, random_state=42)"
   ]
  },
  {
   "cell_type": "code",
   "execution_count": 15,
   "metadata": {},
   "outputs": [
    {
     "data": {
      "text/plain": [
       "array([[-0.65947204, -0.68858045,  1.27965082, -0.82152285],\n",
       "       [ 2.65524269,  2.00946283, -2.08124341, -0.54512264],\n",
       "       [-0.29502697, -0.41449165,  0.38630968,  1.59697899],\n",
       "       [-0.04338632, -0.70031873,  0.03863097, -0.54512264],\n",
       "       [-0.64211751, -0.14568508,  0.29456113, -0.8906229 ],\n",
       "       [-0.74624468, -0.81007163, -0.1158929 ,  2.01157931],\n",
       "       [-0.62476299, -0.68916736,  0.89817001, -0.54512264]])"
      ]
     },
     "execution_count": 15,
     "metadata": {},
     "output_type": "execute_result"
    }
   ],
   "source": [
    "X_train"
   ]
  },
  {
   "cell_type": "code",
   "execution_count": 16,
   "metadata": {},
   "outputs": [
    {
     "data": {
      "text/plain": [
       "array([[ 0.13883622,  1.6244473 ,  0.57946452, -0.06142227],\n",
       "       [ 0.21693159, -0.18559522, -1.27965082, -0.19962237]])"
      ]
     },
     "execution_count": 16,
     "metadata": {},
     "output_type": "execute_result"
    }
   ],
   "source": [
    "X_test"
   ]
  },
  {
   "cell_type": "code",
   "execution_count": 17,
   "metadata": {},
   "outputs": [
    {
     "data": {
      "text/plain": [
       "5    0.47330\n",
       "0    0.34280\n",
       "8    0.44330\n",
       "2    0.46580\n",
       "4    0.49830\n",
       "3    0.38390\n",
       "6    0.45185\n",
       "Name: AKP, dtype: float64"
      ]
     },
     "execution_count": 17,
     "metadata": {},
     "output_type": "execute_result"
    }
   ],
   "source": [
    "y_train"
   ]
  },
  {
   "cell_type": "code",
   "execution_count": 18,
   "metadata": {},
   "outputs": [
    {
     "data": {
      "text/plain": [
       "7    0.4760\n",
       "1    0.4167\n",
       "Name: AKP, dtype: float64"
      ]
     },
     "execution_count": 18,
     "metadata": {},
     "output_type": "execute_result"
    }
   ],
   "source": [
    "y_test"
   ]
  },
  {
   "cell_type": "markdown",
   "metadata": {},
   "source": [
    "# Fitting the Model"
   ]
  },
  {
   "cell_type": "code",
   "execution_count": 19,
   "metadata": {},
   "outputs": [],
   "source": [
    "from sklearn.linear_model import LinearRegression"
   ]
  },
  {
   "cell_type": "code",
   "execution_count": 20,
   "metadata": {},
   "outputs": [],
   "source": [
    "model = LinearRegression()"
   ]
  },
  {
   "cell_type": "code",
   "execution_count": 21,
   "metadata": {},
   "outputs": [
    {
     "data": {
      "text/plain": [
       "LinearRegression()"
      ]
     },
     "execution_count": 21,
     "metadata": {},
     "output_type": "execute_result"
    }
   ],
   "source": [
    "model.fit(X_train,y_train)"
   ]
  },
  {
   "cell_type": "code",
   "execution_count": 22,
   "metadata": {},
   "outputs": [],
   "source": [
    "predictions = model.predict(X_train)"
   ]
  },
  {
   "cell_type": "code",
   "execution_count": 23,
   "metadata": {},
   "outputs": [
    {
     "data": {
      "text/plain": [
       "array([0.48631253, 0.3505741 , 0.41165953, 0.44548761, 0.48094704,\n",
       "       0.40947135, 0.47479783])"
      ]
     },
     "execution_count": 23,
     "metadata": {},
     "output_type": "execute_result"
    }
   ],
   "source": [
    "predictions"
   ]
  },
  {
   "cell_type": "markdown",
   "metadata": {},
   "source": [
    "# Plotting the Residuals"
   ]
  },
  {
   "cell_type": "code",
   "execution_count": 24,
   "metadata": {},
   "outputs": [
    {
     "data": {
      "text/plain": [
       "Text(0.5, 1.0, 'Residuals PDF')"
      ]
     },
     "execution_count": 24,
     "metadata": {},
     "output_type": "execute_result"
    },
    {
     "data": {
      "image/png": "[encoded data removed]",
      "text/plain": [
       "<Figure size 432x288 with 1 Axes>"
      ]
     },
     "metadata": {
      "needs_background": "light"
     },
     "output_type": "display_data"
    }
   ],
   "source": [
    "sns.histplot(y_train - predictions)\n",
    "plt.title(\"Residuals PDF\", size = 18)"
   ]
  },
  {
   "cell_type": "markdown",
   "metadata": {},
   "source": [
    "# R-Squared"
   ]
  },
  {
   "cell_type": "code",
   "execution_count": 25,
   "metadata": {},
   "outputs": [
    {
     "data": {
      "text/plain": [
       "0.8250056623844855"
      ]
     },
     "execution_count": 25,
     "metadata": {},
     "output_type": "execute_result"
    }
   ],
   "source": [
    "model.score(X_train, y_train)"
   ]
  },
  {
   "cell_type": "markdown",
   "metadata": {},
   "source": [
    "# Weights and Bias"
   ]
  },
  {
   "cell_type": "code",
   "execution_count": 26,
   "metadata": {},
   "outputs": [
    {
     "data": {
      "text/plain": [
       "0.4366373003024009"
      ]
     },
     "execution_count": 26,
     "metadata": {},
     "output_type": "execute_result"
    }
   ],
   "source": [
    "model.intercept_"
   ]
  },
  {
   "cell_type": "code",
   "execution_count": 27,
   "metadata": {},
   "outputs": [
    {
     "data": {
      "text/plain": [
       "array([-0.034512  ,  0.00768072,  0.01065699, -0.02260083])"
      ]
     },
     "execution_count": 27,
     "metadata": {},
     "output_type": "execute_result"
    }
   ],
   "source": [
    "model.coef_"
   ]
  },
  {
   "cell_type": "code",
   "execution_count": 44,
   "metadata": {},
   "outputs": [
    {
     "data": {
      "text/plain": [
       "array([[ 2.65524269,  2.00946283, -2.08124341, -0.54512264],\n",
       "       [ 0.21693159, -0.18559522, -1.27965082, -0.19962237],\n",
       "       [-0.04338632, -0.70031873,  0.03863097, -0.54512264],\n",
       "       [-0.74624468, -0.81007163, -0.1158929 ,  2.01157931],\n",
       "       [-0.64211751, -0.14568508,  0.29456113, -0.8906229 ],\n",
       "       [-0.65947204, -0.68858045,  1.27965082, -0.82152285],\n",
       "       [-0.62476299, -0.68916736,  0.89817001, -0.54512264],\n",
       "       [ 0.13883622,  1.6244473 ,  0.57946452, -0.06142227],\n",
       "       [-0.29502697, -0.41449165,  0.38630968,  1.59697899]])"
      ]
     },
     "execution_count": 44,
     "metadata": {},
     "output_type": "execute_result"
    }
   ],
   "source": [
    "X_scaled"
   ]
  },
  {
   "cell_type": "code",
   "execution_count": 43,
   "metadata": {
    "scrolled": true
   },
   "outputs": [
    {
     "data": {
      "text/html": [
       "<div>\n",
       "<style scoped>\n",
       "    .dataframe tbody tr th:only-of-type {\n",
       "        vertical-align: middle;\n",
       "    }\n",
       "\n",
       "    .dataframe tbody tr th {\n",
       "        vertical-align: top;\n",
       "    }\n",
       "\n",
       "    .dataframe thead th {\n",
       "        text-align: right;\n",
       "    }\n",
       "</style>\n",
       "<table border=\"1\" class=\"dataframe\">\n",
       "  <thead>\n",
       "    <tr style=\"text-align: right;\">\n",
       "      <th></th>\n",
       "      <th>Interest Rate</th>\n",
       "      <th>Average Inflation</th>\n",
       "      <th>GDP</th>\n",
       "      <th>Unemployment</th>\n",
       "    </tr>\n",
       "  </thead>\n",
       "  <tbody>\n",
       "    <tr>\n",
       "      <th>0</th>\n",
       "      <td>0.480000</td>\n",
       "      <td>0.302500</td>\n",
       "      <td>238000000000</td>\n",
       "      <td>0.103000</td>\n",
       "    </tr>\n",
       "    <tr>\n",
       "      <th>1</th>\n",
       "      <td>0.199000</td>\n",
       "      <td>0.115500</td>\n",
       "      <td>404000000000</td>\n",
       "      <td>0.108000</td>\n",
       "    </tr>\n",
       "    <tr>\n",
       "      <th>2</th>\n",
       "      <td>0.169000</td>\n",
       "      <td>0.071650</td>\n",
       "      <td>677000000000</td>\n",
       "      <td>0.103000</td>\n",
       "    </tr>\n",
       "    <tr>\n",
       "      <th>3</th>\n",
       "      <td>0.088000</td>\n",
       "      <td>0.062300</td>\n",
       "      <td>645000000000</td>\n",
       "      <td>0.140000</td>\n",
       "    </tr>\n",
       "    <tr>\n",
       "      <th>4</th>\n",
       "      <td>0.100000</td>\n",
       "      <td>0.118900</td>\n",
       "      <td>730000000000</td>\n",
       "      <td>0.098000</td>\n",
       "    </tr>\n",
       "    <tr>\n",
       "      <th>5</th>\n",
       "      <td>0.098000</td>\n",
       "      <td>0.072650</td>\n",
       "      <td>934000000000</td>\n",
       "      <td>0.099000</td>\n",
       "    </tr>\n",
       "    <tr>\n",
       "      <th>6</th>\n",
       "      <td>0.102000</td>\n",
       "      <td>0.072600</td>\n",
       "      <td>855000000000</td>\n",
       "      <td>0.103000</td>\n",
       "    </tr>\n",
       "    <tr>\n",
       "      <th>7</th>\n",
       "      <td>0.190000</td>\n",
       "      <td>0.269700</td>\n",
       "      <td>789000000000</td>\n",
       "      <td>0.110000</td>\n",
       "    </tr>\n",
       "    <tr>\n",
       "      <th>8</th>\n",
       "      <td>0.140000</td>\n",
       "      <td>0.096000</td>\n",
       "      <td>749000000000</td>\n",
       "      <td>0.134000</td>\n",
       "    </tr>\n",
       "  </tbody>\n",
       "</table>\n",
       "</div>"
      ],
      "text/plain": [
       "   Interest Rate  Average Inflation           GDP  Unemployment\n",
       "0       0.480000           0.302500  238000000000      0.103000\n",
       "1       0.199000           0.115500  404000000000      0.108000\n",
       "2       0.169000           0.071650  677000000000      0.103000\n",
       "3       0.088000           0.062300  645000000000      0.140000\n",
       "4       0.100000           0.118900  730000000000      0.098000\n",
       "5       0.098000           0.072650  934000000000      0.099000\n",
       "6       0.102000           0.072600  855000000000      0.103000\n",
       "7       0.190000           0.269700  789000000000      0.110000\n",
       "8       0.140000           0.096000  749000000000      0.134000"
      ]
     },
     "execution_count": 43,
     "metadata": {},
     "output_type": "execute_result"
    }
   ],
   "source": [
    "X"
   ]
  },
  {
   "cell_type": "code",
   "execution_count": 28,
   "metadata": {},
   "outputs": [
    {
     "data": {
      "text/html": [
       "<div>\n",
       "<style scoped>\n",
       "    .dataframe tbody tr th:only-of-type {\n",
       "        vertical-align: middle;\n",
       "    }\n",
       "\n",
       "    .dataframe tbody tr th {\n",
       "        vertical-align: top;\n",
       "    }\n",
       "\n",
       "    .dataframe thead th {\n",
       "        text-align: right;\n",
       "    }\n",
       "</style>\n",
       "<table border=\"1\" class=\"dataframe\">\n",
       "  <thead>\n",
       "    <tr style=\"text-align: right;\">\n",
       "      <th></th>\n",
       "      <th>Features</th>\n",
       "      <th>Weights</th>\n",
       "    </tr>\n",
       "  </thead>\n",
       "  <tbody>\n",
       "    <tr>\n",
       "      <th>0</th>\n",
       "      <td>Interest Rate</td>\n",
       "      <td>-0.034512</td>\n",
       "    </tr>\n",
       "    <tr>\n",
       "      <th>1</th>\n",
       "      <td>Average Inflation</td>\n",
       "      <td>0.007681</td>\n",
       "    </tr>\n",
       "    <tr>\n",
       "      <th>2</th>\n",
       "      <td>GDP</td>\n",
       "      <td>0.010657</td>\n",
       "    </tr>\n",
       "    <tr>\n",
       "      <th>3</th>\n",
       "      <td>Unemployment</td>\n",
       "      <td>-0.022601</td>\n",
       "    </tr>\n",
       "  </tbody>\n",
       "</table>\n",
       "</div>"
      ],
      "text/plain": [
       "            Features   Weights\n",
       "0      Interest Rate -0.034512\n",
       "1  Average Inflation  0.007681\n",
       "2                GDP  0.010657\n",
       "3       Unemployment -0.022601"
      ]
     },
     "execution_count": 28,
     "metadata": {},
     "output_type": "execute_result"
    }
   ],
   "source": [
    "model_summary = pd.DataFrame(X.columns.values, columns = ['Features'])\n",
    "model_summary ['Weights'] = model.coef_\n",
    "model_summary"
   ]
  },
  {
   "cell_type": "markdown",
   "metadata": {},
   "source": [
    "# Testing"
   ]
  },
  {
   "cell_type": "code",
   "execution_count": 29,
   "metadata": {},
   "outputs": [],
   "source": [
    "predictions_test = model.predict(X_test)"
   ]
  },
  {
   "cell_type": "code",
   "execution_count": 30,
   "metadata": {},
   "outputs": [
    {
     "data": {
      "text/plain": [
       "array([0.45188625, 0.41859946])"
      ]
     },
     "execution_count": 30,
     "metadata": {},
     "output_type": "execute_result"
    }
   ],
   "source": [
    "predictions_test"
   ]
  },
  {
   "cell_type": "markdown",
   "metadata": {},
   "source": [
    "# Measuring the Model's Performance"
   ]
  },
  {
   "cell_type": "code",
   "execution_count": 31,
   "metadata": {},
   "outputs": [
    {
     "data": {
      "text/plain": [
       "7    0.4760\n",
       "1    0.4167\n",
       "Name: AKP, dtype: float64"
      ]
     },
     "execution_count": 31,
     "metadata": {},
     "output_type": "execute_result"
    }
   ],
   "source": [
    "y_test"
   ]
  },
  {
   "cell_type": "code",
   "execution_count": 32,
   "metadata": {
    "scrolled": true
   },
   "outputs": [
    {
     "data": {
      "text/html": [
       "<div>\n",
       "<style scoped>\n",
       "    .dataframe tbody tr th:only-of-type {\n",
       "        vertical-align: middle;\n",
       "    }\n",
       "\n",
       "    .dataframe tbody tr th {\n",
       "        vertical-align: top;\n",
       "    }\n",
       "\n",
       "    .dataframe thead th {\n",
       "        text-align: right;\n",
       "    }\n",
       "</style>\n",
       "<table border=\"1\" class=\"dataframe\">\n",
       "  <thead>\n",
       "    <tr style=\"text-align: right;\">\n",
       "      <th></th>\n",
       "      <th>Predictions</th>\n",
       "    </tr>\n",
       "  </thead>\n",
       "  <tbody>\n",
       "    <tr>\n",
       "      <th>0</th>\n",
       "      <td>0.451886</td>\n",
       "    </tr>\n",
       "    <tr>\n",
       "      <th>1</th>\n",
       "      <td>0.418599</td>\n",
       "    </tr>\n",
       "  </tbody>\n",
       "</table>\n",
       "</div>"
      ],
      "text/plain": [
       "   Predictions\n",
       "0     0.451886\n",
       "1     0.418599"
      ]
     },
     "execution_count": 32,
     "metadata": {},
     "output_type": "execute_result"
    }
   ],
   "source": [
    "df_pf = pd.DataFrame(predictions_test, columns = ['Predictions'])\n",
    "df_pf"
   ]
  },
  {
   "cell_type": "code",
   "execution_count": 33,
   "metadata": {},
   "outputs": [
    {
     "data": {
      "text/html": [
       "<div>\n",
       "<style scoped>\n",
       "    .dataframe tbody tr th:only-of-type {\n",
       "        vertical-align: middle;\n",
       "    }\n",
       "\n",
       "    .dataframe tbody tr th {\n",
       "        vertical-align: top;\n",
       "    }\n",
       "\n",
       "    .dataframe thead th {\n",
       "        text-align: right;\n",
       "    }\n",
       "</style>\n",
       "<table border=\"1\" class=\"dataframe\">\n",
       "  <thead>\n",
       "    <tr style=\"text-align: right;\">\n",
       "      <th></th>\n",
       "      <th>Predictions</th>\n",
       "      <th>Target</th>\n",
       "    </tr>\n",
       "  </thead>\n",
       "  <tbody>\n",
       "    <tr>\n",
       "      <th>0</th>\n",
       "      <td>0.451886</td>\n",
       "      <td>NaN</td>\n",
       "    </tr>\n",
       "    <tr>\n",
       "      <th>1</th>\n",
       "      <td>0.418599</td>\n",
       "      <td>0.4167</td>\n",
       "    </tr>\n",
       "  </tbody>\n",
       "</table>\n",
       "</div>"
      ],
      "text/plain": [
       "   Predictions  Target\n",
       "0     0.451886     NaN\n",
       "1     0.418599  0.4167"
      ]
     },
     "execution_count": 33,
     "metadata": {},
     "output_type": "execute_result"
    }
   ],
   "source": [
    "df_pf['Target'] = y_test\n",
    "df_pf"
   ]
  },
  {
   "cell_type": "code",
   "execution_count": 34,
   "metadata": {},
   "outputs": [],
   "source": [
    "y_test = y_test.reset_index(drop = True)"
   ]
  },
  {
   "cell_type": "code",
   "execution_count": 35,
   "metadata": {},
   "outputs": [],
   "source": [
    "df_pf['Target'] = y_test"
   ]
  },
  {
   "cell_type": "code",
   "execution_count": 36,
   "metadata": {},
   "outputs": [],
   "source": [
    "df_pf['Residuals'] = df_pf ['Target'] - df_pf ['Predictions']"
   ]
  },
  {
   "cell_type": "code",
   "execution_count": 37,
   "metadata": {},
   "outputs": [
    {
     "data": {
      "text/html": [
       "<div>\n",
       "<style scoped>\n",
       "    .dataframe tbody tr th:only-of-type {\n",
       "        vertical-align: middle;\n",
       "    }\n",
       "\n",
       "    .dataframe tbody tr th {\n",
       "        vertical-align: top;\n",
       "    }\n",
       "\n",
       "    .dataframe thead th {\n",
       "        text-align: right;\n",
       "    }\n",
       "</style>\n",
       "<table border=\"1\" class=\"dataframe\">\n",
       "  <thead>\n",
       "    <tr style=\"text-align: right;\">\n",
       "      <th></th>\n",
       "      <th>Predictions</th>\n",
       "      <th>Target</th>\n",
       "      <th>Residuals</th>\n",
       "      <th>Differences %</th>\n",
       "    </tr>\n",
       "  </thead>\n",
       "  <tbody>\n",
       "    <tr>\n",
       "      <th>0</th>\n",
       "      <td>0.451886</td>\n",
       "      <td>0.4760</td>\n",
       "      <td>0.024114</td>\n",
       "      <td>5.065915</td>\n",
       "    </tr>\n",
       "    <tr>\n",
       "      <th>1</th>\n",
       "      <td>0.418599</td>\n",
       "      <td>0.4167</td>\n",
       "      <td>-0.001899</td>\n",
       "      <td>0.455833</td>\n",
       "    </tr>\n",
       "  </tbody>\n",
       "</table>\n",
       "</div>"
      ],
      "text/plain": [
       "   Predictions  Target  Residuals  Differences %\n",
       "0     0.451886  0.4760   0.024114       5.065915\n",
       "1     0.418599  0.4167  -0.001899       0.455833"
      ]
     },
     "execution_count": 37,
     "metadata": {},
     "output_type": "execute_result"
    }
   ],
   "source": [
    "df_pf ['Differences %'] = np.absolute(df_pf ['Residuals'] / df_pf['Target']*100)\n",
    "df_pf"
   ]
  },
  {
   "cell_type": "code",
   "execution_count": 38,
   "metadata": {},
   "outputs": [
    {
     "data": {
      "text/html": [
       "<div>\n",
       "<style scoped>\n",
       "    .dataframe tbody tr th:only-of-type {\n",
       "        vertical-align: middle;\n",
       "    }\n",
       "\n",
       "    .dataframe tbody tr th {\n",
       "        vertical-align: top;\n",
       "    }\n",
       "\n",
       "    .dataframe thead th {\n",
       "        text-align: right;\n",
       "    }\n",
       "</style>\n",
       "<table border=\"1\" class=\"dataframe\">\n",
       "  <thead>\n",
       "    <tr style=\"text-align: right;\">\n",
       "      <th></th>\n",
       "      <th>Predictions</th>\n",
       "      <th>Target</th>\n",
       "      <th>Residuals</th>\n",
       "      <th>Differences %</th>\n",
       "    </tr>\n",
       "  </thead>\n",
       "  <tbody>\n",
       "    <tr>\n",
       "      <th>count</th>\n",
       "      <td>2.000000</td>\n",
       "      <td>2.000000</td>\n",
       "      <td>2.000000</td>\n",
       "      <td>2.000000</td>\n",
       "    </tr>\n",
       "    <tr>\n",
       "      <th>mean</th>\n",
       "      <td>0.435243</td>\n",
       "      <td>0.446350</td>\n",
       "      <td>0.011107</td>\n",
       "      <td>2.760874</td>\n",
       "    </tr>\n",
       "    <tr>\n",
       "      <th>std</th>\n",
       "      <td>0.023537</td>\n",
       "      <td>0.041931</td>\n",
       "      <td>0.018394</td>\n",
       "      <td>3.259820</td>\n",
       "    </tr>\n",
       "    <tr>\n",
       "      <th>min</th>\n",
       "      <td>0.418599</td>\n",
       "      <td>0.416700</td>\n",
       "      <td>-0.001899</td>\n",
       "      <td>0.455833</td>\n",
       "    </tr>\n",
       "    <tr>\n",
       "      <th>25%</th>\n",
       "      <td>0.426921</td>\n",
       "      <td>0.431525</td>\n",
       "      <td>0.004604</td>\n",
       "      <td>1.608354</td>\n",
       "    </tr>\n",
       "    <tr>\n",
       "      <th>50%</th>\n",
       "      <td>0.435243</td>\n",
       "      <td>0.446350</td>\n",
       "      <td>0.011107</td>\n",
       "      <td>2.760874</td>\n",
       "    </tr>\n",
       "    <tr>\n",
       "      <th>75%</th>\n",
       "      <td>0.443565</td>\n",
       "      <td>0.461175</td>\n",
       "      <td>0.017610</td>\n",
       "      <td>3.913394</td>\n",
       "    </tr>\n",
       "    <tr>\n",
       "      <th>max</th>\n",
       "      <td>0.451886</td>\n",
       "      <td>0.476000</td>\n",
       "      <td>0.024114</td>\n",
       "      <td>5.065915</td>\n",
       "    </tr>\n",
       "  </tbody>\n",
       "</table>\n",
       "</div>"
      ],
      "text/plain": [
       "       Predictions    Target  Residuals  Differences %\n",
       "count     2.000000  2.000000   2.000000       2.000000\n",
       "mean      0.435243  0.446350   0.011107       2.760874\n",
       "std       0.023537  0.041931   0.018394       3.259820\n",
       "min       0.418599  0.416700  -0.001899       0.455833\n",
       "25%       0.426921  0.431525   0.004604       1.608354\n",
       "50%       0.435243  0.446350   0.011107       2.760874\n",
       "75%       0.443565  0.461175   0.017610       3.913394\n",
       "max       0.451886  0.476000   0.024114       5.065915"
      ]
     },
     "execution_count": 38,
     "metadata": {},
     "output_type": "execute_result"
    }
   ],
   "source": [
    "df_pf.describe(include = 'all')"
   ]
  },
  {
   "cell_type": "code",
   "execution_count": 39,
   "metadata": {},
   "outputs": [
    {
     "data": {
      "text/html": [
       "<div>\n",
       "<style scoped>\n",
       "    .dataframe tbody tr th:only-of-type {\n",
       "        vertical-align: middle;\n",
       "    }\n",
       "\n",
       "    .dataframe tbody tr th {\n",
       "        vertical-align: top;\n",
       "    }\n",
       "\n",
       "    .dataframe thead th {\n",
       "        text-align: right;\n",
       "    }\n",
       "</style>\n",
       "<table border=\"1\" class=\"dataframe\">\n",
       "  <thead>\n",
       "    <tr style=\"text-align: right;\">\n",
       "      <th></th>\n",
       "      <th>Predictions</th>\n",
       "      <th>Target</th>\n",
       "      <th>Residuals</th>\n",
       "      <th>Differences %</th>\n",
       "    </tr>\n",
       "  </thead>\n",
       "  <tbody>\n",
       "    <tr>\n",
       "      <th>1</th>\n",
       "      <td>0.418599</td>\n",
       "      <td>0.416700</td>\n",
       "      <td>-0.001899</td>\n",
       "      <td>0.455833</td>\n",
       "    </tr>\n",
       "    <tr>\n",
       "      <th>0</th>\n",
       "      <td>0.451886</td>\n",
       "      <td>0.476000</td>\n",
       "      <td>0.024114</td>\n",
       "      <td>5.065915</td>\n",
       "    </tr>\n",
       "  </tbody>\n",
       "</table>\n",
       "</div>"
      ],
      "text/plain": [
       "   Predictions   Target  Residuals  Differences %\n",
       "1     0.418599 0.416700  -0.001899       0.455833\n",
       "0     0.451886 0.476000   0.024114       5.065915"
      ]
     },
     "execution_count": 39,
     "metadata": {},
     "output_type": "execute_result"
    }
   ],
   "source": [
    "pd.set_option('display.float_format', lambda x: '%2f' % x)\n",
    "df_pf.sort_values(by = ['Differences %'])"
   ]
  }
 ],
 "metadata": {
  "kernelspec": {
   "display_name": "Python 3",
   "language": "python",
   "name": "python3"
  },
  "language_info": {
   "codemirror_mode": {
    "name": "ipython",
    "version": 3
   },
   "file_extension": ".py",
   "mimetype": "text/x-python",
   "name": "python",
   "nbconvert_exporter": "python",
   "pygments_lexer": "ipython3",
   "version": "3.8.5"
  }
 },
 "nbformat": 4,
 "nbformat_minor": 4
}
